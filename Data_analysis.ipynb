{
 "cells": [
  {
   "cell_type": "markdown",
   "id": "f8767150",
   "metadata": {},
   "source": [
    "# Analýza dátových sád\n",
    "\n",
    "## Dátová sada Prevádzky "
   ]
  },
  {
   "cell_type": "code",
   "execution_count": 2,
   "id": "89f0e359",
   "metadata": {},
   "outputs": [],
   "source": [
    "import pandas as pd\n",
    "import seaborn as sns\n",
    "import matplotlib.pyplot as plt\n",
    "import numpy as np"
   ]
  },
  {
   "cell_type": "markdown",
   "id": "566a2e49",
   "metadata": {},
   "source": [
    "#### Načítame dátovú sadu prevádzok do pandas dataframe so správnym kódovaním a zobrazíme prvých 10 záznamov"
   ]
  },
  {
   "cell_type": "code",
   "execution_count": 4,
   "id": "57ee673b",
   "metadata": {},
   "outputs": [
    {
     "data": {
      "text/html": [
       "<div>\n",
       "<style scoped>\n",
       "    .dataframe tbody tr th:only-of-type {\n",
       "        vertical-align: middle;\n",
       "    }\n",
       "\n",
       "    .dataframe tbody tr th {\n",
       "        vertical-align: top;\n",
       "    }\n",
       "\n",
       "    .dataframe thead th {\n",
       "        text-align: right;\n",
       "    }\n",
       "</style>\n",
       "<table border=\"1\" class=\"dataframe\">\n",
       "  <thead>\n",
       "    <tr style=\"text-align: right;\">\n",
       "      <th></th>\n",
       "      <th>ZdravotnickeZarizeniId</th>\n",
       "      <th>PCZ</th>\n",
       "      <th>PCDP</th>\n",
       "      <th>NazevCely</th>\n",
       "      <th>ZdravotnickeZarizeniKod</th>\n",
       "      <th>DruhZarizeniKod</th>\n",
       "      <th>DruhZarizeni</th>\n",
       "      <th>DruhZarizeniSekundarni</th>\n",
       "      <th>Obec</th>\n",
       "      <th>Psc</th>\n",
       "      <th>...</th>\n",
       "      <th>PscSidlo</th>\n",
       "      <th>ObecSidlo</th>\n",
       "      <th>UliceSidlo</th>\n",
       "      <th>CisloDomovniOrientacniSidlo</th>\n",
       "      <th>OborPece</th>\n",
       "      <th>FormaPece</th>\n",
       "      <th>DruhPece</th>\n",
       "      <th>OdbornyZastupce</th>\n",
       "      <th>GPS</th>\n",
       "      <th>LastModified</th>\n",
       "    </tr>\n",
       "  </thead>\n",
       "  <tbody>\n",
       "    <tr>\n",
       "      <th>0</th>\n",
       "      <td>161440</td>\n",
       "      <td>0</td>\n",
       "      <td>3</td>\n",
       "      <td>Tormová Eleonóra MUDr., s.r.o.</td>\n",
       "      <td>3925595000003</td>\n",
       "      <td>320</td>\n",
       "      <td>Samost. ordinace všeob. prakt. lékaře</td>\n",
       "      <td>NaN</td>\n",
       "      <td>Olomouc</td>\n",
       "      <td>77900.0</td>\n",
       "      <td>...</td>\n",
       "      <td>77900.0</td>\n",
       "      <td>Olomouc</td>\n",
       "      <td>Fischerova</td>\n",
       "      <td>723/24</td>\n",
       "      <td>všeobecné praktické lékařství</td>\n",
       "      <td>ambulantní péče</td>\n",
       "      <td>NaN</td>\n",
       "      <td>ELEONÓRA TORMOVÁ</td>\n",
       "      <td>49.60954242388 17.265501074046</td>\n",
       "      <td>2021-10-01 23:05:32</td>\n",
       "    </tr>\n",
       "    <tr>\n",
       "      <th>1</th>\n",
       "      <td>161439</td>\n",
       "      <td>0</td>\n",
       "      <td>1</td>\n",
       "      <td>MDDr. Barbora Krybusová</td>\n",
       "      <td>6890377000001</td>\n",
       "      <td>322</td>\n",
       "      <td>Samostatná ordinace PL - stomatologa</td>\n",
       "      <td>NaN</td>\n",
       "      <td>Tovačov</td>\n",
       "      <td>75101.0</td>\n",
       "      <td>...</td>\n",
       "      <td>75002.0</td>\n",
       "      <td>Přerov</td>\n",
       "      <td>Kabelíkova</td>\n",
       "      <td>2682/1</td>\n",
       "      <td>zubní lékařství</td>\n",
       "      <td>ambulantní péče</td>\n",
       "      <td>NaN</td>\n",
       "      <td>NaN</td>\n",
       "      <td>49.431138450704 17.288680490717</td>\n",
       "      <td>2021-10-01 23:05:32</td>\n",
       "    </tr>\n",
       "    <tr>\n",
       "      <th>2</th>\n",
       "      <td>161438</td>\n",
       "      <td>0</td>\n",
       "      <td>0</td>\n",
       "      <td>MUDr. Petra Havlíková</td>\n",
       "      <td>11796120000000</td>\n",
       "      <td>324</td>\n",
       "      <td>Samostatná ordinace lékaře specialisty</td>\n",
       "      <td>NaN</td>\n",
       "      <td>Mohelnice</td>\n",
       "      <td>78985.0</td>\n",
       "      <td>...</td>\n",
       "      <td>78985.0</td>\n",
       "      <td>Mohelnice</td>\n",
       "      <td>nám. Svobody</td>\n",
       "      <td>1022/2</td>\n",
       "      <td>psychiatrie</td>\n",
       "      <td>ambulantní péče</td>\n",
       "      <td>NaN</td>\n",
       "      <td>NaN</td>\n",
       "      <td>49.776635765517 16.919601654743</td>\n",
       "      <td>2021-10-01 23:05:32</td>\n",
       "    </tr>\n",
       "    <tr>\n",
       "      <th>3</th>\n",
       "      <td>161437</td>\n",
       "      <td>0</td>\n",
       "      <td>0</td>\n",
       "      <td>Azzurro Neo s.r.o.</td>\n",
       "      <td>9983643000000</td>\n",
       "      <td>350</td>\n",
       "      <td>Domácí zdravotní péče</td>\n",
       "      <td>NaN</td>\n",
       "      <td>Hranice</td>\n",
       "      <td>75301.0</td>\n",
       "      <td>...</td>\n",
       "      <td>75301.0</td>\n",
       "      <td>Hranice</td>\n",
       "      <td>Radniční</td>\n",
       "      <td>30</td>\n",
       "      <td>Všeobecná sestra</td>\n",
       "      <td>zdrav. péče poskytovaná ve vlastním soc. prost...</td>\n",
       "      <td>NaN</td>\n",
       "      <td>Jana Grey</td>\n",
       "      <td>49.546814605207 17.734068036352</td>\n",
       "      <td>2021-10-01 23:05:32</td>\n",
       "    </tr>\n",
       "    <tr>\n",
       "      <th>4</th>\n",
       "      <td>161436</td>\n",
       "      <td>24</td>\n",
       "      <td>0</td>\n",
       "      <td>Renturi s.r.o.</td>\n",
       "      <td>28405757024000</td>\n",
       "      <td>320</td>\n",
       "      <td>Samost. ordinace všeob. prakt. lékaře</td>\n",
       "      <td>NaN</td>\n",
       "      <td>Frenštát pod Radhoštěm</td>\n",
       "      <td>74401.0</td>\n",
       "      <td>...</td>\n",
       "      <td>15000.0</td>\n",
       "      <td>Praha 5</td>\n",
       "      <td>náměstí 14. října</td>\n",
       "      <td>1307/2</td>\n",
       "      <td>všeobecné praktické lékařství</td>\n",
       "      <td>specializovaná ambulantní péče</td>\n",
       "      <td>NaN</td>\n",
       "      <td>Daniela Machallová, Jaromír Samuel</td>\n",
       "      <td>49.546488255277 18.21269932443</td>\n",
       "      <td>2021-10-01 23:05:32</td>\n",
       "    </tr>\n",
       "    <tr>\n",
       "      <th>5</th>\n",
       "      <td>161435</td>\n",
       "      <td>0</td>\n",
       "      <td>1</td>\n",
       "      <td>MUDr. Marian Sznapka s.r.o.</td>\n",
       "      <td>11748109000001</td>\n",
       "      <td>320</td>\n",
       "      <td>Samost. ordinace všeob. prakt. lékaře</td>\n",
       "      <td>NaN</td>\n",
       "      <td>Písek</td>\n",
       "      <td>73984.0</td>\n",
       "      <td>...</td>\n",
       "      <td>73991.0</td>\n",
       "      <td>Jablunkov</td>\n",
       "      <td>Školní</td>\n",
       "      <td>388</td>\n",
       "      <td>všeobecné praktické lékařství</td>\n",
       "      <td>primární ambulantní péče</td>\n",
       "      <td>NaN</td>\n",
       "      <td>Marian Sznapka</td>\n",
       "      <td>49.559011155963 18.805142730301</td>\n",
       "      <td>2021-10-01 23:05:32</td>\n",
       "    </tr>\n",
       "    <tr>\n",
       "      <th>6</th>\n",
       "      <td>161434</td>\n",
       "      <td>0</td>\n",
       "      <td>0</td>\n",
       "      <td>MUDr. Marian Sznapka s.r.o.</td>\n",
       "      <td>11748109000000</td>\n",
       "      <td>320</td>\n",
       "      <td>Samost. ordinace všeob. prakt. lékaře</td>\n",
       "      <td>NaN</td>\n",
       "      <td>Jablunkov</td>\n",
       "      <td>73991.0</td>\n",
       "      <td>...</td>\n",
       "      <td>73991.0</td>\n",
       "      <td>Jablunkov</td>\n",
       "      <td>Školní</td>\n",
       "      <td>388</td>\n",
       "      <td>všeobecné praktické lékařství</td>\n",
       "      <td>primární ambulantní péče</td>\n",
       "      <td>NaN</td>\n",
       "      <td>Marian Sznapka</td>\n",
       "      <td>49.574559008479 18.763626329974</td>\n",
       "      <td>2021-10-01 23:05:32</td>\n",
       "    </tr>\n",
       "    <tr>\n",
       "      <th>7</th>\n",
       "      <td>161433</td>\n",
       "      <td>0</td>\n",
       "      <td>1</td>\n",
       "      <td>JANA BLAŽKOVÁ</td>\n",
       "      <td>66130620000001</td>\n",
       "      <td>360</td>\n",
       "      <td>Samostatná stomatologická laboratoř</td>\n",
       "      <td>NaN</td>\n",
       "      <td>Most</td>\n",
       "      <td>43401.0</td>\n",
       "      <td>...</td>\n",
       "      <td>43401.0</td>\n",
       "      <td>Most</td>\n",
       "      <td>Zdeňka Fibicha</td>\n",
       "      <td>2825/47</td>\n",
       "      <td>Zubní technik</td>\n",
       "      <td>specializovaná ambulantní péče</td>\n",
       "      <td>NaN</td>\n",
       "      <td>NaN</td>\n",
       "      <td>50.507737872209 13.656653618544</td>\n",
       "      <td>2021-10-01 23:05:32</td>\n",
       "    </tr>\n",
       "    <tr>\n",
       "      <th>8</th>\n",
       "      <td>161432</td>\n",
       "      <td>0</td>\n",
       "      <td>0</td>\n",
       "      <td>Pavlína Peterová</td>\n",
       "      <td>11790644000000</td>\n",
       "      <td>359</td>\n",
       "      <td>Samostatné zařízení nelékaře - jiné</td>\n",
       "      <td>NaN</td>\n",
       "      <td>Děčín</td>\n",
       "      <td>40502.0</td>\n",
       "      <td>...</td>\n",
       "      <td>40502.0</td>\n",
       "      <td>Děčín</td>\n",
       "      <td>Teplická</td>\n",
       "      <td>1850/60</td>\n",
       "      <td>Dentální hygienistka</td>\n",
       "      <td>specializovaná ambulantní péče</td>\n",
       "      <td>NaN</td>\n",
       "      <td>NaN</td>\n",
       "      <td>50.776284403088 14.193147283732</td>\n",
       "      <td>2021-10-01 23:05:32</td>\n",
       "    </tr>\n",
       "    <tr>\n",
       "      <th>9</th>\n",
       "      <td>161431</td>\n",
       "      <td>0</td>\n",
       "      <td>0</td>\n",
       "      <td>Bc. Zdeněk Novák</td>\n",
       "      <td>5786070000000</td>\n",
       "      <td>351</td>\n",
       "      <td>Samostatné zařízení fyzioterapeuta</td>\n",
       "      <td>NaN</td>\n",
       "      <td>Louny</td>\n",
       "      <td>44001.0</td>\n",
       "      <td>...</td>\n",
       "      <td>44001.0</td>\n",
       "      <td>Louny</td>\n",
       "      <td>Fűgnerova</td>\n",
       "      <td>1668</td>\n",
       "      <td>Fyzioterapeut</td>\n",
       "      <td>zdrav. péče poskytovaná ve vlastním soc. prost...</td>\n",
       "      <td>NaN</td>\n",
       "      <td>NaN</td>\n",
       "      <td>50.353305519404 13.797546133147</td>\n",
       "      <td>2021-10-01 23:05:32</td>\n",
       "    </tr>\n",
       "  </tbody>\n",
       "</table>\n",
       "<p>10 rows × 42 columns</p>\n",
       "</div>"
      ],
      "text/plain": [
       "   ZdravotnickeZarizeniId  PCZ  PCDP                       NazevCely  \\\n",
       "0                  161440    0     3  Tormová Eleonóra MUDr., s.r.o.   \n",
       "1                  161439    0     1         MDDr. Barbora Krybusová   \n",
       "2                  161438    0     0           MUDr. Petra Havlíková   \n",
       "3                  161437    0     0              Azzurro Neo s.r.o.   \n",
       "4                  161436   24     0                  Renturi s.r.o.   \n",
       "5                  161435    0     1     MUDr. Marian Sznapka s.r.o.   \n",
       "6                  161434    0     0     MUDr. Marian Sznapka s.r.o.   \n",
       "7                  161433    0     1                   JANA BLAŽKOVÁ   \n",
       "8                  161432    0     0                Pavlína Peterová   \n",
       "9                  161431    0     0                Bc. Zdeněk Novák   \n",
       "\n",
       "   ZdravotnickeZarizeniKod  DruhZarizeniKod  \\\n",
       "0            3925595000003              320   \n",
       "1            6890377000001              322   \n",
       "2           11796120000000              324   \n",
       "3            9983643000000              350   \n",
       "4           28405757024000              320   \n",
       "5           11748109000001              320   \n",
       "6           11748109000000              320   \n",
       "7           66130620000001              360   \n",
       "8           11790644000000              359   \n",
       "9            5786070000000              351   \n",
       "\n",
       "                             DruhZarizeni DruhZarizeniSekundarni  \\\n",
       "0   Samost. ordinace všeob. prakt. lékaře                    NaN   \n",
       "1    Samostatná ordinace PL - stomatologa                    NaN   \n",
       "2  Samostatná ordinace lékaře specialisty                    NaN   \n",
       "3                   Domácí zdravotní péče                    NaN   \n",
       "4   Samost. ordinace všeob. prakt. lékaře                    NaN   \n",
       "5   Samost. ordinace všeob. prakt. lékaře                    NaN   \n",
       "6   Samost. ordinace všeob. prakt. lékaře                    NaN   \n",
       "7     Samostatná stomatologická laboratoř                    NaN   \n",
       "8     Samostatné zařízení nelékaře - jiné                    NaN   \n",
       "9      Samostatné zařízení fyzioterapeuta                    NaN   \n",
       "\n",
       "                     Obec      Psc  ... PscSidlo  ObecSidlo  \\\n",
       "0                 Olomouc  77900.0  ...  77900.0    Olomouc   \n",
       "1                 Tovačov  75101.0  ...  75002.0     Přerov   \n",
       "2               Mohelnice  78985.0  ...  78985.0  Mohelnice   \n",
       "3                 Hranice  75301.0  ...  75301.0    Hranice   \n",
       "4  Frenštát pod Radhoštěm  74401.0  ...  15000.0    Praha 5   \n",
       "5                   Písek  73984.0  ...  73991.0  Jablunkov   \n",
       "6               Jablunkov  73991.0  ...  73991.0  Jablunkov   \n",
       "7                    Most  43401.0  ...  43401.0       Most   \n",
       "8                   Děčín  40502.0  ...  40502.0      Děčín   \n",
       "9                   Louny  44001.0  ...  44001.0      Louny   \n",
       "\n",
       "          UliceSidlo CisloDomovniOrientacniSidlo  \\\n",
       "0         Fischerova                      723/24   \n",
       "1         Kabelíkova                      2682/1   \n",
       "2       nám. Svobody                      1022/2   \n",
       "3           Radniční                          30   \n",
       "4  náměstí 14. října                      1307/2   \n",
       "5             Školní                         388   \n",
       "6             Školní                         388   \n",
       "7     Zdeňka Fibicha                     2825/47   \n",
       "8           Teplická                     1850/60   \n",
       "9          Fűgnerova                        1668   \n",
       "\n",
       "                        OborPece  \\\n",
       "0  všeobecné praktické lékařství   \n",
       "1                zubní lékařství   \n",
       "2                    psychiatrie   \n",
       "3               Všeobecná sestra   \n",
       "4  všeobecné praktické lékařství   \n",
       "5  všeobecné praktické lékařství   \n",
       "6  všeobecné praktické lékařství   \n",
       "7                  Zubní technik   \n",
       "8           Dentální hygienistka   \n",
       "9                  Fyzioterapeut   \n",
       "\n",
       "                                           FormaPece DruhPece  \\\n",
       "0                                    ambulantní péče      NaN   \n",
       "1                                    ambulantní péče      NaN   \n",
       "2                                    ambulantní péče      NaN   \n",
       "3  zdrav. péče poskytovaná ve vlastním soc. prost...      NaN   \n",
       "4                     specializovaná ambulantní péče      NaN   \n",
       "5                           primární ambulantní péče      NaN   \n",
       "6                           primární ambulantní péče      NaN   \n",
       "7                     specializovaná ambulantní péče      NaN   \n",
       "8                     specializovaná ambulantní péče      NaN   \n",
       "9  zdrav. péče poskytovaná ve vlastním soc. prost...      NaN   \n",
       "\n",
       "                      OdbornyZastupce                              GPS  \\\n",
       "0                    ELEONÓRA TORMOVÁ   49.60954242388 17.265501074046   \n",
       "1                                 NaN  49.431138450704 17.288680490717   \n",
       "2                                 NaN  49.776635765517 16.919601654743   \n",
       "3                           Jana Grey  49.546814605207 17.734068036352   \n",
       "4  Daniela Machallová, Jaromír Samuel   49.546488255277 18.21269932443   \n",
       "5                      Marian Sznapka  49.559011155963 18.805142730301   \n",
       "6                      Marian Sznapka  49.574559008479 18.763626329974   \n",
       "7                                 NaN  50.507737872209 13.656653618544   \n",
       "8                                 NaN  50.776284403088 14.193147283732   \n",
       "9                                 NaN  50.353305519404 13.797546133147   \n",
       "\n",
       "          LastModified  \n",
       "0  2021-10-01 23:05:32  \n",
       "1  2021-10-01 23:05:32  \n",
       "2  2021-10-01 23:05:32  \n",
       "3  2021-10-01 23:05:32  \n",
       "4  2021-10-01 23:05:32  \n",
       "5  2021-10-01 23:05:32  \n",
       "6  2021-10-01 23:05:32  \n",
       "7  2021-10-01 23:05:32  \n",
       "8  2021-10-01 23:05:32  \n",
       "9  2021-10-01 23:05:32  \n",
       "\n",
       "[10 rows x 42 columns]"
      ]
     },
     "execution_count": 4,
     "metadata": {},
     "output_type": "execute_result"
    }
   ],
   "source": [
    "df_facilities = pd.read_csv('Dataset/export-sluzby-2021-10.csv', encoding='cp1250', delimiter=';', header=0)\n",
    "df_facilities.head(10)"
   ]
  },
  {
   "cell_type": "code",
   "execution_count": 3,
   "id": "123a3c61",
   "metadata": {},
   "outputs": [
    {
     "data": {
      "text/html": [
       "<div>\n",
       "<style scoped>\n",
       "    .dataframe tbody tr th:only-of-type {\n",
       "        vertical-align: middle;\n",
       "    }\n",
       "\n",
       "    .dataframe tbody tr th {\n",
       "        vertical-align: top;\n",
       "    }\n",
       "\n",
       "    .dataframe thead th {\n",
       "        text-align: right;\n",
       "    }\n",
       "</style>\n",
       "<table border=\"1\" class=\"dataframe\">\n",
       "  <thead>\n",
       "    <tr style=\"text-align: right;\">\n",
       "      <th></th>\n",
       "      <th>ZdravotnickeZarizeniId</th>\n",
       "      <th>PCZ</th>\n",
       "      <th>PCDP</th>\n",
       "      <th>NazevCely</th>\n",
       "      <th>ZdravotnickeZarizeniKod</th>\n",
       "      <th>DruhZarizeniKod</th>\n",
       "      <th>DruhZarizeni</th>\n",
       "      <th>DruhZarizeniSekundarni</th>\n",
       "      <th>Obec</th>\n",
       "      <th>Psc</th>\n",
       "      <th>...</th>\n",
       "      <th>PscSidlo</th>\n",
       "      <th>ObecSidlo</th>\n",
       "      <th>UliceSidlo</th>\n",
       "      <th>CisloDomovniOrientacniSidlo</th>\n",
       "      <th>OborPece</th>\n",
       "      <th>FormaPece</th>\n",
       "      <th>DruhPece</th>\n",
       "      <th>OdbornyZastupce</th>\n",
       "      <th>GPS</th>\n",
       "      <th>LastModified</th>\n",
       "    </tr>\n",
       "  </thead>\n",
       "  <tbody>\n",
       "    <tr>\n",
       "      <th>61972</th>\n",
       "      <td>97</td>\n",
       "      <td>0</td>\n",
       "      <td>0</td>\n",
       "      <td>Institut klinické a experimentální medicíny</td>\n",
       "      <td>23001000000</td>\n",
       "      <td>102</td>\n",
       "      <td>Nemocnice</td>\n",
       "      <td>NaN</td>\n",
       "      <td>Praha 4</td>\n",
       "      <td>14000.0</td>\n",
       "      <td>...</td>\n",
       "      <td>14000.0</td>\n",
       "      <td>Praha 4</td>\n",
       "      <td>Vídeňská</td>\n",
       "      <td>1958/9</td>\n",
       "      <td>Klinický psycholog</td>\n",
       "      <td>akutní lůžková péče intenzivní</td>\n",
       "      <td>NaN</td>\n",
       "      <td>Marek Šetina, Mgr. Martina Šochmanová, Michal ...</td>\n",
       "      <td>50.022795133365 14.463012846349</td>\n",
       "      <td>2021-10-01 23:04:35</td>\n",
       "    </tr>\n",
       "    <tr>\n",
       "      <th>61973</th>\n",
       "      <td>97</td>\n",
       "      <td>0</td>\n",
       "      <td>0</td>\n",
       "      <td>Institut klinické a experimentální medicíny</td>\n",
       "      <td>23001000000</td>\n",
       "      <td>102</td>\n",
       "      <td>Nemocnice</td>\n",
       "      <td>NaN</td>\n",
       "      <td>Praha 4</td>\n",
       "      <td>14000.0</td>\n",
       "      <td>...</td>\n",
       "      <td>14000.0</td>\n",
       "      <td>Praha 4</td>\n",
       "      <td>Vídeňská</td>\n",
       "      <td>1958/9</td>\n",
       "      <td>Klinický psycholog</td>\n",
       "      <td>akutní lůžková péče standardní</td>\n",
       "      <td>NaN</td>\n",
       "      <td>Marek Šetina, Mgr. Martina Šochmanová, Michal ...</td>\n",
       "      <td>50.022795133365 14.463012846349</td>\n",
       "      <td>2021-10-01 23:04:35</td>\n",
       "    </tr>\n",
       "    <tr>\n",
       "      <th>61974</th>\n",
       "      <td>97</td>\n",
       "      <td>0</td>\n",
       "      <td>0</td>\n",
       "      <td>Institut klinické a experimentální medicíny</td>\n",
       "      <td>23001000000</td>\n",
       "      <td>102</td>\n",
       "      <td>Nemocnice</td>\n",
       "      <td>NaN</td>\n",
       "      <td>Praha 4</td>\n",
       "      <td>14000.0</td>\n",
       "      <td>...</td>\n",
       "      <td>14000.0</td>\n",
       "      <td>Praha 4</td>\n",
       "      <td>Vídeňská</td>\n",
       "      <td>1958/9</td>\n",
       "      <td>Klinický psycholog</td>\n",
       "      <td>ambulantní péče</td>\n",
       "      <td>NaN</td>\n",
       "      <td>Marek Šetina, Mgr. Martina Šochmanová, Michal ...</td>\n",
       "      <td>50.022795133365 14.463012846349</td>\n",
       "      <td>2021-10-01 23:04:35</td>\n",
       "    </tr>\n",
       "    <tr>\n",
       "      <th>61975</th>\n",
       "      <td>97</td>\n",
       "      <td>0</td>\n",
       "      <td>0</td>\n",
       "      <td>Institut klinické a experimentální medicíny</td>\n",
       "      <td>23001000000</td>\n",
       "      <td>102</td>\n",
       "      <td>Nemocnice</td>\n",
       "      <td>NaN</td>\n",
       "      <td>Praha 4</td>\n",
       "      <td>14000.0</td>\n",
       "      <td>...</td>\n",
       "      <td>14000.0</td>\n",
       "      <td>Praha 4</td>\n",
       "      <td>Vídeňská</td>\n",
       "      <td>1958/9</td>\n",
       "      <td>Klinický logoped</td>\n",
       "      <td>ambulantní péče</td>\n",
       "      <td>NaN</td>\n",
       "      <td>Marek Šetina, Mgr. Martina Šochmanová, Michal ...</td>\n",
       "      <td>50.022795133365 14.463012846349</td>\n",
       "      <td>2021-10-01 23:04:35</td>\n",
       "    </tr>\n",
       "    <tr>\n",
       "      <th>61976</th>\n",
       "      <td>97</td>\n",
       "      <td>0</td>\n",
       "      <td>0</td>\n",
       "      <td>Institut klinické a experimentální medicíny</td>\n",
       "      <td>23001000000</td>\n",
       "      <td>102</td>\n",
       "      <td>Nemocnice</td>\n",
       "      <td>NaN</td>\n",
       "      <td>Praha 4</td>\n",
       "      <td>14000.0</td>\n",
       "      <td>...</td>\n",
       "      <td>14000.0</td>\n",
       "      <td>Praha 4</td>\n",
       "      <td>Vídeňská</td>\n",
       "      <td>1958/9</td>\n",
       "      <td>gastroenterologie</td>\n",
       "      <td>akutní lůžková péče intenzivní</td>\n",
       "      <td>NaN</td>\n",
       "      <td>Marek Šetina, Mgr. Martina Šochmanová, Michal ...</td>\n",
       "      <td>50.022795133365 14.463012846349</td>\n",
       "      <td>2021-10-01 23:04:35</td>\n",
       "    </tr>\n",
       "    <tr>\n",
       "      <th>61977</th>\n",
       "      <td>97</td>\n",
       "      <td>0</td>\n",
       "      <td>0</td>\n",
       "      <td>Institut klinické a experimentální medicíny</td>\n",
       "      <td>23001000000</td>\n",
       "      <td>102</td>\n",
       "      <td>Nemocnice</td>\n",
       "      <td>NaN</td>\n",
       "      <td>Praha 4</td>\n",
       "      <td>14000.0</td>\n",
       "      <td>...</td>\n",
       "      <td>14000.0</td>\n",
       "      <td>Praha 4</td>\n",
       "      <td>Vídeňská</td>\n",
       "      <td>1958/9</td>\n",
       "      <td>gastroenterologie</td>\n",
       "      <td>akutní lůžková péče standardní</td>\n",
       "      <td>NaN</td>\n",
       "      <td>Marek Šetina, Mgr. Martina Šochmanová, Michal ...</td>\n",
       "      <td>50.022795133365 14.463012846349</td>\n",
       "      <td>2021-10-01 23:04:35</td>\n",
       "    </tr>\n",
       "    <tr>\n",
       "      <th>61978</th>\n",
       "      <td>97</td>\n",
       "      <td>0</td>\n",
       "      <td>0</td>\n",
       "      <td>Institut klinické a experimentální medicíny</td>\n",
       "      <td>23001000000</td>\n",
       "      <td>102</td>\n",
       "      <td>Nemocnice</td>\n",
       "      <td>NaN</td>\n",
       "      <td>Praha 4</td>\n",
       "      <td>14000.0</td>\n",
       "      <td>...</td>\n",
       "      <td>14000.0</td>\n",
       "      <td>Praha 4</td>\n",
       "      <td>Vídeňská</td>\n",
       "      <td>1958/9</td>\n",
       "      <td>gastroenterologie</td>\n",
       "      <td>ambulantní péče</td>\n",
       "      <td>NaN</td>\n",
       "      <td>Marek Šetina, Mgr. Martina Šochmanová, Michal ...</td>\n",
       "      <td>50.022795133365 14.463012846349</td>\n",
       "      <td>2021-10-01 23:04:35</td>\n",
       "    </tr>\n",
       "    <tr>\n",
       "      <th>61979</th>\n",
       "      <td>97</td>\n",
       "      <td>0</td>\n",
       "      <td>0</td>\n",
       "      <td>Institut klinické a experimentální medicíny</td>\n",
       "      <td>23001000000</td>\n",
       "      <td>102</td>\n",
       "      <td>Nemocnice</td>\n",
       "      <td>NaN</td>\n",
       "      <td>Praha 4</td>\n",
       "      <td>14000.0</td>\n",
       "      <td>...</td>\n",
       "      <td>14000.0</td>\n",
       "      <td>Praha 4</td>\n",
       "      <td>Vídeňská</td>\n",
       "      <td>1958/9</td>\n",
       "      <td>lékařská genetika</td>\n",
       "      <td>ambulantní péče</td>\n",
       "      <td>NaN</td>\n",
       "      <td>Marek Šetina, Mgr. Martina Šochmanová, Michal ...</td>\n",
       "      <td>50.022795133365 14.463012846349</td>\n",
       "      <td>2021-10-01 23:04:35</td>\n",
       "    </tr>\n",
       "    <tr>\n",
       "      <th>61980</th>\n",
       "      <td>97</td>\n",
       "      <td>0</td>\n",
       "      <td>0</td>\n",
       "      <td>Institut klinické a experimentální medicíny</td>\n",
       "      <td>23001000000</td>\n",
       "      <td>102</td>\n",
       "      <td>Nemocnice</td>\n",
       "      <td>NaN</td>\n",
       "      <td>Praha 4</td>\n",
       "      <td>14000.0</td>\n",
       "      <td>...</td>\n",
       "      <td>14000.0</td>\n",
       "      <td>Praha 4</td>\n",
       "      <td>Vídeňská</td>\n",
       "      <td>1958/9</td>\n",
       "      <td>klinická farmacie</td>\n",
       "      <td>NaN</td>\n",
       "      <td>lékárenská péče</td>\n",
       "      <td>Marek Šetina, Mgr. Martina Šochmanová, Michal ...</td>\n",
       "      <td>50.022795133365 14.463012846349</td>\n",
       "      <td>2021-10-01 23:04:35</td>\n",
       "    </tr>\n",
       "    <tr>\n",
       "      <th>61981</th>\n",
       "      <td>97</td>\n",
       "      <td>0</td>\n",
       "      <td>0</td>\n",
       "      <td>Institut klinické a experimentální medicíny</td>\n",
       "      <td>23001000000</td>\n",
       "      <td>102</td>\n",
       "      <td>Nemocnice</td>\n",
       "      <td>NaN</td>\n",
       "      <td>Praha 4</td>\n",
       "      <td>14000.0</td>\n",
       "      <td>...</td>\n",
       "      <td>14000.0</td>\n",
       "      <td>Praha 4</td>\n",
       "      <td>Vídeňská</td>\n",
       "      <td>1958/9</td>\n",
       "      <td>klinická onkologie</td>\n",
       "      <td>ambulantní péče</td>\n",
       "      <td>NaN</td>\n",
       "      <td>Marek Šetina, Mgr. Martina Šochmanová, Michal ...</td>\n",
       "      <td>50.022795133365 14.463012846349</td>\n",
       "      <td>2021-10-01 23:04:35</td>\n",
       "    </tr>\n",
       "  </tbody>\n",
       "</table>\n",
       "<p>10 rows × 42 columns</p>\n",
       "</div>"
      ],
      "text/plain": [
       "       ZdravotnickeZarizeniId  PCZ  PCDP  \\\n",
       "61972                      97    0     0   \n",
       "61973                      97    0     0   \n",
       "61974                      97    0     0   \n",
       "61975                      97    0     0   \n",
       "61976                      97    0     0   \n",
       "61977                      97    0     0   \n",
       "61978                      97    0     0   \n",
       "61979                      97    0     0   \n",
       "61980                      97    0     0   \n",
       "61981                      97    0     0   \n",
       "\n",
       "                                         NazevCely  ZdravotnickeZarizeniKod  \\\n",
       "61972  Institut klinické a experimentální medicíny              23001000000   \n",
       "61973  Institut klinické a experimentální medicíny              23001000000   \n",
       "61974  Institut klinické a experimentální medicíny              23001000000   \n",
       "61975  Institut klinické a experimentální medicíny              23001000000   \n",
       "61976  Institut klinické a experimentální medicíny              23001000000   \n",
       "61977  Institut klinické a experimentální medicíny              23001000000   \n",
       "61978  Institut klinické a experimentální medicíny              23001000000   \n",
       "61979  Institut klinické a experimentální medicíny              23001000000   \n",
       "61980  Institut klinické a experimentální medicíny              23001000000   \n",
       "61981  Institut klinické a experimentální medicíny              23001000000   \n",
       "\n",
       "       DruhZarizeniKod DruhZarizeni DruhZarizeniSekundarni     Obec      Psc  \\\n",
       "61972              102    Nemocnice                    NaN  Praha 4  14000.0   \n",
       "61973              102    Nemocnice                    NaN  Praha 4  14000.0   \n",
       "61974              102    Nemocnice                    NaN  Praha 4  14000.0   \n",
       "61975              102    Nemocnice                    NaN  Praha 4  14000.0   \n",
       "61976              102    Nemocnice                    NaN  Praha 4  14000.0   \n",
       "61977              102    Nemocnice                    NaN  Praha 4  14000.0   \n",
       "61978              102    Nemocnice                    NaN  Praha 4  14000.0   \n",
       "61979              102    Nemocnice                    NaN  Praha 4  14000.0   \n",
       "61980              102    Nemocnice                    NaN  Praha 4  14000.0   \n",
       "61981              102    Nemocnice                    NaN  Praha 4  14000.0   \n",
       "\n",
       "       ... PscSidlo ObecSidlo UliceSidlo CisloDomovniOrientacniSidlo  \\\n",
       "61972  ...  14000.0   Praha 4   Vídeňská                      1958/9   \n",
       "61973  ...  14000.0   Praha 4   Vídeňská                      1958/9   \n",
       "61974  ...  14000.0   Praha 4   Vídeňská                      1958/9   \n",
       "61975  ...  14000.0   Praha 4   Vídeňská                      1958/9   \n",
       "61976  ...  14000.0   Praha 4   Vídeňská                      1958/9   \n",
       "61977  ...  14000.0   Praha 4   Vídeňská                      1958/9   \n",
       "61978  ...  14000.0   Praha 4   Vídeňská                      1958/9   \n",
       "61979  ...  14000.0   Praha 4   Vídeňská                      1958/9   \n",
       "61980  ...  14000.0   Praha 4   Vídeňská                      1958/9   \n",
       "61981  ...  14000.0   Praha 4   Vídeňská                      1958/9   \n",
       "\n",
       "                 OborPece                       FormaPece         DruhPece  \\\n",
       "61972  Klinický psycholog  akutní lůžková péče intenzivní              NaN   \n",
       "61973  Klinický psycholog  akutní lůžková péče standardní              NaN   \n",
       "61974  Klinický psycholog                 ambulantní péče              NaN   \n",
       "61975    Klinický logoped                 ambulantní péče              NaN   \n",
       "61976   gastroenterologie  akutní lůžková péče intenzivní              NaN   \n",
       "61977   gastroenterologie  akutní lůžková péče standardní              NaN   \n",
       "61978   gastroenterologie                 ambulantní péče              NaN   \n",
       "61979   lékařská genetika                 ambulantní péče              NaN   \n",
       "61980   klinická farmacie                             NaN  lékárenská péče   \n",
       "61981  klinická onkologie                 ambulantní péče              NaN   \n",
       "\n",
       "                                         OdbornyZastupce  \\\n",
       "61972  Marek Šetina, Mgr. Martina Šochmanová, Michal ...   \n",
       "61973  Marek Šetina, Mgr. Martina Šochmanová, Michal ...   \n",
       "61974  Marek Šetina, Mgr. Martina Šochmanová, Michal ...   \n",
       "61975  Marek Šetina, Mgr. Martina Šochmanová, Michal ...   \n",
       "61976  Marek Šetina, Mgr. Martina Šochmanová, Michal ...   \n",
       "61977  Marek Šetina, Mgr. Martina Šochmanová, Michal ...   \n",
       "61978  Marek Šetina, Mgr. Martina Šochmanová, Michal ...   \n",
       "61979  Marek Šetina, Mgr. Martina Šochmanová, Michal ...   \n",
       "61980  Marek Šetina, Mgr. Martina Šochmanová, Michal ...   \n",
       "61981  Marek Šetina, Mgr. Martina Šochmanová, Michal ...   \n",
       "\n",
       "                                   GPS         LastModified  \n",
       "61972  50.022795133365 14.463012846349  2021-10-01 23:04:35  \n",
       "61973  50.022795133365 14.463012846349  2021-10-01 23:04:35  \n",
       "61974  50.022795133365 14.463012846349  2021-10-01 23:04:35  \n",
       "61975  50.022795133365 14.463012846349  2021-10-01 23:04:35  \n",
       "61976  50.022795133365 14.463012846349  2021-10-01 23:04:35  \n",
       "61977  50.022795133365 14.463012846349  2021-10-01 23:04:35  \n",
       "61978  50.022795133365 14.463012846349  2021-10-01 23:04:35  \n",
       "61979  50.022795133365 14.463012846349  2021-10-01 23:04:35  \n",
       "61980  50.022795133365 14.463012846349  2021-10-01 23:04:35  \n",
       "61981  50.022795133365 14.463012846349  2021-10-01 23:04:35  \n",
       "\n",
       "[10 rows x 42 columns]"
      ]
     },
     "execution_count": 3,
     "metadata": {},
     "output_type": "execute_result"
    }
   ],
   "source": [
    "df_facilities.tail(10)"
   ]
  },
  {
   "cell_type": "code",
   "execution_count": 4,
   "id": "07c683f5",
   "metadata": {},
   "outputs": [
    {
     "name": "stdout",
     "output_type": "stream",
     "text": [
      "Počet riadkov (dátová sada prevádzok): 61982\n"
     ]
    }
   ],
   "source": [
    "print(\"Počet riadkov (dátová sada prevádzok):\", len(df_facilities.index))"
   ]
  },
  {
   "cell_type": "code",
   "execution_count": 5,
   "id": "38c63638",
   "metadata": {},
   "outputs": [
    {
     "data": {
      "text/plain": [
       "ZdravotnickeZarizeniId           int64\n",
       "PCZ                              int64\n",
       "PCDP                             int64\n",
       "NazevCely                       object\n",
       "ZdravotnickeZarizeniKod          int64\n",
       "DruhZarizeniKod                  int64\n",
       "DruhZarizeni                    object\n",
       "DruhZarizeniSekundarni          object\n",
       "Obec                            object\n",
       "Psc                            float64\n",
       "Ulice                           object\n",
       "CisloDomovniOrientacni          object\n",
       "Kraj                            object\n",
       "KrajKod                         object\n",
       "Okres                           object\n",
       "OkresKod                        object\n",
       "SpravniObvod                    object\n",
       "PoskytovatelTelefon             object\n",
       "PoskytovatelFax                 object\n",
       "DatumZahajeniCinnosti           object\n",
       "IdentifikatorDatoveSchranky     object\n",
       "PoskytovatelEmail               object\n",
       "PoskytovatelWeb                 object\n",
       "DruhPoskytovatele               object\n",
       "PoskytovatelNazev               object\n",
       "Ico                              int64\n",
       "TypOsoby                        object\n",
       "PravniFormaKod                  object\n",
       "KrajKodSidlo                    object\n",
       "KrajSidlo                       object\n",
       "OkresKodSidlo                   object\n",
       "OkresSidlo                      object\n",
       "PscSidlo                       float64\n",
       "ObecSidlo                       object\n",
       "UliceSidlo                      object\n",
       "CisloDomovniOrientacniSidlo     object\n",
       "OborPece                        object\n",
       "FormaPece                       object\n",
       "DruhPece                        object\n",
       "OdbornyZastupce                 object\n",
       "GPS                             object\n",
       "LastModified                    object\n",
       "dtype: object"
      ]
     },
     "execution_count": 5,
     "metadata": {},
     "output_type": "execute_result"
    }
   ],
   "source": [
    "df_facilities.dtypes"
   ]
  },
  {
   "cell_type": "code",
   "execution_count": 6,
   "id": "153fa586",
   "metadata": {},
   "outputs": [
    {
     "data": {
      "text/plain": [
       "1020"
      ]
     },
     "execution_count": 6,
     "metadata": {},
     "output_type": "execute_result"
    }
   ],
   "source": [
    "df_facilities.duplicated().sum()"
   ]
  },
  {
   "cell_type": "code",
   "execution_count": 7,
   "id": "ee8a8399",
   "metadata": {},
   "outputs": [
    {
     "name": "stdout",
     "output_type": "stream",
     "text": [
      "Počet riadkov (dátová sada prevádzok): 60962\n"
     ]
    }
   ],
   "source": [
    "df_facilities = df_facilities.drop_duplicates()\n",
    "print(\"Počet riadkov (dátová sada prevádzok):\", len(df_facilities.index))"
   ]
  },
  {
   "cell_type": "markdown",
   "id": "51d99144",
   "metadata": {},
   "source": [
    "#### Zistíme počty nedefinovaných hodnôt v jednotlivých stĺpcoch"
   ]
  },
  {
   "cell_type": "code",
   "execution_count": 8,
   "id": "eff61e5c",
   "metadata": {},
   "outputs": [
    {
     "data": {
      "text/plain": [
       "ZdravotnickeZarizeniId             0\n",
       "PCZ                                0\n",
       "PCDP                               0\n",
       "NazevCely                          0\n",
       "ZdravotnickeZarizeniKod            0\n",
       "DruhZarizeniKod                    0\n",
       "DruhZarizeni                       0\n",
       "DruhZarizeniSekundarni         52297\n",
       "Obec                               0\n",
       "Psc                               50\n",
       "Ulice                           3594\n",
       "CisloDomovniOrientacni            69\n",
       "Kraj                              22\n",
       "KrajKod                            0\n",
       "Okres                              1\n",
       "OkresKod                           1\n",
       "SpravniObvod                   52370\n",
       "PoskytovatelTelefon            24274\n",
       "PoskytovatelFax                53333\n",
       "DatumZahajeniCinnosti              0\n",
       "IdentifikatorDatoveSchranky    19513\n",
       "PoskytovatelEmail              19325\n",
       "PoskytovatelWeb                25457\n",
       "DruhPoskytovatele                  3\n",
       "PoskytovatelNazev                  0\n",
       "Ico                                0\n",
       "TypOsoby                           0\n",
       "PravniFormaKod                 20694\n",
       "KrajKodSidlo                       0\n",
       "KrajSidlo                          0\n",
       "OkresKodSidlo                      0\n",
       "OkresSidlo                         0\n",
       "PscSidlo                       11302\n",
       "ObecSidlo                      11254\n",
       "UliceSidlo                     14109\n",
       "CisloDomovniOrientacniSidlo    11301\n",
       "OborPece                        2448\n",
       "FormaPece                       6163\n",
       "DruhPece                       53967\n",
       "OdbornyZastupce                19578\n",
       "GPS                              313\n",
       "LastModified                       0\n",
       "dtype: int64"
      ]
     },
     "execution_count": 8,
     "metadata": {},
     "output_type": "execute_result"
    }
   ],
   "source": [
    "df_facilities.isna().sum()"
   ]
  },
  {
   "cell_type": "markdown",
   "id": "a78b63d8",
   "metadata": {},
   "source": [
    "#### Preskúmame niektoré zaujímavé stĺpce dátovej sady, ktoré budú potrebné pre riešenie zadania\n",
    "\n",
    "Zistíme, ktoré stĺpce rozlišujú jednotlivé záznamy"
   ]
  },
  {
   "cell_type": "code",
   "execution_count": 9,
   "id": "90571f67",
   "metadata": {},
   "outputs": [
    {
     "data": {
      "text/plain": [
       "39472"
      ]
     },
     "execution_count": 9,
     "metadata": {},
     "output_type": "execute_result"
    }
   ],
   "source": [
    "len(df_facilities.ZdravotnickeZarizeniId.unique())"
   ]
  },
  {
   "cell_type": "code",
   "execution_count": 10,
   "id": "81e5ca3d",
   "metadata": {},
   "outputs": [
    {
     "data": {
      "text/plain": [
       "39472"
      ]
     },
     "execution_count": 10,
     "metadata": {},
     "output_type": "execute_result"
    }
   ],
   "source": [
    "len(df_facilities.ZdravotnickeZarizeniKod.unique())"
   ]
  },
  {
   "cell_type": "code",
   "execution_count": 11,
   "id": "38466472",
   "metadata": {},
   "outputs": [
    {
     "data": {
      "text/plain": [
       "30638"
      ]
     },
     "execution_count": 11,
     "metadata": {},
     "output_type": "execute_result"
    }
   ],
   "source": [
    "len(df_facilities.NazevCely.unique())"
   ]
  },
  {
   "cell_type": "code",
   "execution_count": 12,
   "id": "2c523656",
   "metadata": {},
   "outputs": [
    {
     "data": {
      "text/plain": [
       "0"
      ]
     },
     "execution_count": 12,
     "metadata": {},
     "output_type": "execute_result"
    }
   ],
   "source": [
    "df_facilities.duplicated(subset=('ZdravotnickeZarizeniId','OborPece','FormaPece','DruhPece')).sum()"
   ]
  },
  {
   "cell_type": "code",
   "execution_count": 13,
   "id": "5cd7d3da",
   "metadata": {},
   "outputs": [
    {
     "data": {
      "text/plain": [
       "array(['ambulantní péče',\n",
       "       'zdrav. péče poskytovaná ve vlastním soc. prostředí pacienta - domácí péče - ošetřovatelská',\n",
       "       'specializovaná ambulantní péče', 'primární ambulantní péče',\n",
       "       'zdrav. péče poskytovaná ve vlastním soc. prostředí pacienta - domácí péče - léčebně rehabilitační',\n",
       "       nan,\n",
       "       'zdrav. péče poskytovaná ve vlastním soc. prostředí pacienta - umělá plicní ventilace',\n",
       "       'zdrav. péče poskytovaná ve vlastním soc. prostředí pacienta - návštěvní služba',\n",
       "       'jednodenní péče', 'stacionární péče',\n",
       "       'zdrav. péče poskytovaná ve vlastním soc. prostředí pacienta - domácí péče - paliativní',\n",
       "       'zdrav. péče poskytovaná ve vlastním soc. prostředí pacienta - dialýza',\n",
       "       'následná lůžková léčebně rehabilitační péče',\n",
       "       'následná lůžková péče - standardní',\n",
       "       'akutní lůžková péče standardní', 'akutní lůžková péče intenzivní',\n",
       "       'následná lůžková intenzivní péče',\n",
       "       'dlouhodobá lůžková paliativní péče',\n",
       "       'dlouhodobá lůžková péče vyjma intenzivní',\n",
       "       'dlouhodobá intenzivní ošetřovatelská péče (DIOP)'], dtype=object)"
      ]
     },
     "execution_count": 13,
     "metadata": {},
     "output_type": "execute_result"
    }
   ],
   "source": [
    "df_facilities.FormaPece.unique()"
   ]
  },
  {
   "cell_type": "code",
   "execution_count": 14,
   "id": "e16bb1bb",
   "metadata": {},
   "outputs": [
    {
     "data": {
      "text/plain": [
       "array([nan, 'ošetřovatelská péče', 'lékárenská péče',\n",
       "       'léčebně rehabilitační péče', 'zdravotnická dopravní služba',\n",
       "       'paliativní péče', 'lázeňská léčebně rehabilitační péče',\n",
       "       'přeprava pacientů neodkladné péče',\n",
       "       'zdravotnická záchranná služba',\n",
       "       'protialkoholní a protitoxikomanická záchytná služba'],\n",
       "      dtype=object)"
      ]
     },
     "execution_count": 14,
     "metadata": {},
     "output_type": "execute_result"
    }
   ],
   "source": [
    "df_facilities.DruhPece.unique()"
   ]
  },
  {
   "cell_type": "markdown",
   "id": "87e624c1",
   "metadata": {},
   "source": [
    "Zistili sme, že jediné možné spojenie stĺpcov, ktoré navzájom odlišujú jednotlivé záznamy, je kombinácia stĺpcov 'ZdravotnickeZarizeniId', 'OborPece', 'FormaPece', 'DruhPece'. Pri vkladaní do databázy teda nebudeme používať ako identifikátor zariadenia stĺpec 'ZdravotnickeZarizeniId', ale budeme generovať vlastný, aby sme predišli konfliktom."
   ]
  },
  {
   "cell_type": "code",
   "execution_count": 15,
   "id": "dfc2ecf3",
   "metadata": {},
   "outputs": [
    {
     "data": {
      "text/plain": [
       "158"
      ]
     },
     "execution_count": 15,
     "metadata": {},
     "output_type": "execute_result"
    }
   ],
   "source": [
    "len(df_facilities.OborPece.unique())"
   ]
  },
  {
   "cell_type": "code",
   "execution_count": 16,
   "id": "6817ba94",
   "metadata": {},
   "outputs": [
    {
     "data": {
      "text/plain": [
       "array(['všeobecné praktické lékařství', 'zubní lékařství', 'psychiatrie',\n",
       "       'Všeobecná sestra', 'Zubní technik', 'Dentální hygienistka',\n",
       "       'Fyzioterapeut', nan, 'anesteziologie a intenzivní medicína',\n",
       "       'praktické lékárenství', 'rehabilitační a fyzikální medicína',\n",
       "       'endokrinologie a diabetologie', 'oftalmologie',\n",
       "       'dermatovenerologie', 'praktické lékařství pro děti a dorost',\n",
       "       'vnitřní lékařství',\n",
       "       'ortopedie a traumatologie pohybového ústrojí', 'Optometrista',\n",
       "       'hematologie a transfúzní lékařství', 'Klinický logoped',\n",
       "       'Klinický psycholog', 'gynekologie a porodnictví',\n",
       "       'lékařská genetika', 'plastická chirurgie',\n",
       "       'Sestra pro intenzivní péči', 'chirurgie',\n",
       "       'tělovýchovné lékařství', 'urologie', 'kardiologie',\n",
       "       'gastroenterologie',\n",
       "       'Odborný pracovník v laboratorních  metodách a přípravě léčivých přípravků',\n",
       "       'dětská neurologie', 'ortodoncie', 'Nutriční terapeut',\n",
       "       'pneumologie a ftizeologie', 'paliativní medicína', 'neurologie',\n",
       "       'Farmaceutický asistent', 'radiologie a zobrazovací metody',\n",
       "       'algeziologie', 'angiologie', 'revmatologie', 'dětské lékařství',\n",
       "       'geriatrie', 'psychosomatika', 'sexuologie', 'patologie',\n",
       "       'alergologie a klinická imunologie', 'klinická biochemie',\n",
       "       'Ergoterapeut', 'lékařská mikrobiologie',\n",
       "       'laboratorní a vyšetřovací metody ve zdravotnictví',\n",
       "       'Behaviorální analytik', 'nemocniční lékárenství',\n",
       "       'klinická onkologie', 'Sestra pro péči v psychiatrii', 'pediatrie',\n",
       "       'reprodukční medicína', 'Porodní asistentka', 'cévní chirurgie',\n",
       "       'hygiena a epidemiologie', 'dětská kardiologie', 'neurochirurgie',\n",
       "       'dětská otorinolaryngologie', 'foniatrie',\n",
       "       'otorinolaryngologie a chirurgie hlavy a krku',\n",
       "       'pracovní lékařství', 'Dětský klinický psycholog',\n",
       "       'dětská pneumologie', 'dětská urologie',\n",
       "       'medicína dlouhodobé péče', 'neonatologie', 'traumatologie',\n",
       "       'nefrologie', 'ortopedická protetika',\n",
       "       'dětská a dorostová psychiatrie', 'Ortoptista', 'epidemiologie',\n",
       "       'urgentní medicína', 'dorostové lékařství',\n",
       "       'orální a maxilofaciální chirurgie', 'infekční lékařství',\n",
       "       'klinická farmakologie', 'radiační onkologie', 'dětská chirurgie',\n",
       "       'dětská nefrologie', 'hrudní chirurgie', 'klinická farmacie',\n",
       "       'klinická osteologie', 'dětská gastroenterologie a hepatologie',\n",
       "       'Adiktolog', 'Ortotik-protetik', 'korektivní dermatologie',\n",
       "       'soudní lékařství', 'dětská dermatovenerologie',\n",
       "       'gerontopsychiatrie', 'Radiologický asistent', 'návykové nemoci',\n",
       "       'klinická stomatologie', 'onkogynekologie', 'urogynekologie',\n",
       "       'dětská revmatologie', 'nukleární medicína',\n",
       "       'gynekologie dětí a dospívajících', 'Praktická sestra',\n",
       "       'Bioanalytik pro mikrobiologii',\n",
       "       'Bioanalytik pro klinickou genetiku',\n",
       "       'Farmaceutický asistent pro zdravotnické prostředky',\n",
       "       'hyperbarická a letecká medicína', 'koloproktologie',\n",
       "       'Odborný fyzioterapeut', 'Dětská sestra',\n",
       "       'perinatologie a fetomaternální medicína',\n",
       "       'Zdravotní laborant pro toxikologii',\n",
       "       'Zdravotní laborant pro mikrobiologii', 'veřejné zdravotnictví',\n",
       "       'klinická výživa a intenzivní metabolická péče',\n",
       "       'Zdravotně-sociální pracovník',\n",
       "       'Zdravotní laborant pro alergologii a klinickou imunologii',\n",
       "       'Zdravotnický záchranář', 'onkochirurgie',\n",
       "       'dětská endokrinologie a diabetologie', 'dětská radiologie',\n",
       "       'Zdravotní laborant', 'Zdravotní laborant pro klinickou genetiku',\n",
       "       'Zdravotní laborant pro klinickou biochemii',\n",
       "       'intervenční radiologie',\n",
       "       'Zubní technik pro fixní a snímatelné náhrady',\n",
       "       'Zubní technik pro ortodoncii',\n",
       "       'Zdravotní laborant pro klinickou hematologii a transfuzní službu',\n",
       "       'maxilofaciální chirurgie', 'farmaceutická technologie',\n",
       "       'popáleninová medicína', 'neuroradiologie',\n",
       "       'Zdravotní laborant pro cytodiagnostiku', 'posudkové lékařství',\n",
       "       'intenzívní medicína',\n",
       "       'Odborný pracovník v ochraně a podpoře veřejného zdraví pro hygienu a epidemiologii',\n",
       "       'Radiologický fyzik', 'kardiochirurgie',\n",
       "       'hygiena výživy a předmětů běžného užívání',\n",
       "       'Odborný pracovník v ochraně a podpoře veřejného zdraví',\n",
       "       'Asistent ochrany a podpory veřejného zdraví', 'Zrakový terapeut',\n",
       "       'Sestra pro péči v interních oborech', 'hygiena dětí a dorostu',\n",
       "       'dětská onkologie a hematologie', 'onkourologie',\n",
       "       'vaskulární intervenční radiologie', 'spondylochirurgie',\n",
       "       'farmaceutická kontrola', 'onkologická farmacie', 'radiofarmaka',\n",
       "       'Biomedicínský technik', 'Biomedicínský inženýr',\n",
       "       'hygiena obecná a komunální', 'Radiologický technik',\n",
       "       'nutriční podpora'], dtype=object)"
      ]
     },
     "execution_count": 16,
     "metadata": {},
     "output_type": "execute_result"
    }
   ],
   "source": [
    "df_facilities.OborPece.unique()"
   ]
  },
  {
   "cell_type": "code",
   "execution_count": 17,
   "id": "e7826a60",
   "metadata": {},
   "outputs": [
    {
     "data": {
      "text/plain": [
       "všeobecné praktické lékařství                                                         6795\n",
       "zubní lékařství                                                                       6120\n",
       "Fyzioterapeut                                                                         3386\n",
       "praktické lékařství pro děti a dorost                                                 2534\n",
       "praktické lékárenství                                                                 2440\n",
       "                                                                                      ... \n",
       "Behaviorální analytik                                                                    1\n",
       "Odborný pracovník v ochraně a podpoře veřejného zdraví pro hygienu a epidemiologii       1\n",
       "Bioanalytik pro mikrobiologii                                                            1\n",
       "Bioanalytik pro klinickou genetiku                                                       1\n",
       "nutriční podpora                                                                         1\n",
       "Name: OborPece, Length: 157, dtype: int64"
      ]
     },
     "execution_count": 17,
     "metadata": {},
     "output_type": "execute_result"
    }
   ],
   "source": [
    "df_facilities.OborPece.value_counts()"
   ]
  },
  {
   "cell_type": "code",
   "execution_count": 18,
   "id": "1ede800c",
   "metadata": {},
   "outputs": [
    {
     "data": {
      "text/plain": [
       "63"
      ]
     },
     "execution_count": 18,
     "metadata": {},
     "output_type": "execute_result"
    }
   ],
   "source": [
    "len(df_facilities.DruhZarizeni.unique())"
   ]
  },
  {
   "cell_type": "code",
   "execution_count": 19,
   "id": "1bc7ec01",
   "metadata": {},
   "outputs": [
    {
     "data": {
      "text/plain": [
       "array(['Samost. ordinace všeob. prakt. lékaře',\n",
       "       'Samostatná ordinace PL - stomatologa',\n",
       "       'Samostatná ordinace lékaře specialisty', 'Domácí zdravotní péče',\n",
       "       'Samostatná stomatologická laboratoř',\n",
       "       'Samostatné zařízení nelékaře - jiné',\n",
       "       'Samostatné zařízení fyzioterapeuta',\n",
       "       'Zdravotní péče v ústavech sociální p.', 'Lékárna',\n",
       "       'Zdravotní ústav', 'Sam.ord.prakt.lékaře pro děti a dorost',\n",
       "       'Oční optika', 'Samostatná odborná laboratoř',\n",
       "       'Samostatné zařízení logopeda', 'Samostatné zařízení psychologa',\n",
       "       'Samostatná ordinace PL - gynekologa',\n",
       "       'Zdravotnická dopravní služba',\n",
       "       'Výdejna zdravotnických prostředků', 'Lázeňská léčebna',\n",
       "       'Lázeňský dům (jen ubyt. hotel. typu)',\n",
       "       'Sdružené ambulantní zařízení - malé', 'Odběrová místnost',\n",
       "       'Nemocnice následné péče', 'Zdravotnické středisko', 'Nemocnice',\n",
       "       'Přeprava pacientů neodkladné péče',\n",
       "       'Zařízení závodní preventivní péče', 'Hospic',\n",
       "       'Sdružené ambulantní zařízení - velké',\n",
       "       'Léčebna pro dlouhodobě nemocné (LDN)', 'Centrum očkování COVID',\n",
       "       'Ostatní ambulantní zařízení', 'Centrum duševního zdraví',\n",
       "       'Další lůžkové zařízení', 'Fakultní nemocnice',\n",
       "       'Zařízení pro léčbu závislostí', 'Hemodialyzační středisko',\n",
       "       'Zdravotnická zachranná služba', 'Záchytná stanice', 'Stacionář',\n",
       "       'Dětské centrum', 'COVID zařízení', 'Psychiatrická nemocnice',\n",
       "       'Specializovaná nemocnice', 'Zařízení LPS', 'Rehabilitační ústav',\n",
       "       'Ostatní zvláštní zdravotnická zařízení',\n",
       "       'Ostatní zdravotnická zařízení', 'Psychiatrická léčebna',\n",
       "       'Koroner', 'Dětský stacionář',\n",
       "       'Hospodářská org. neposkyt. zdrav. péči',\n",
       "       'Dětský domov pro děti do 3 let',\n",
       "       'Léčebna tuberkul.a respir.nemocí (TRN)',\n",
       "       'Další zařízení hygienické služby', 'Psychoterapeutický stacionář',\n",
       "       'Samostatná transfuzní stanice',\n",
       "       'Ostatní dětské odborné léčebné ústavy',\n",
       "       'Ostatní odborné léčebné ústavy', 'Krizové centrum',\n",
       "       'Státní zdravotní ústav', 'Dětská psychiatrická léčebna',\n",
       "       'Dětská ozdravovna'], dtype=object)"
      ]
     },
     "execution_count": 19,
     "metadata": {},
     "output_type": "execute_result"
    }
   ],
   "source": [
    "df_facilities.DruhZarizeni.unique()"
   ]
  },
  {
   "cell_type": "markdown",
   "id": "390e62e1",
   "metadata": {},
   "source": [
    "## Dátová sada Demografia"
   ]
  },
  {
   "cell_type": "markdown",
   "id": "08b5b9d8",
   "metadata": {},
   "source": [
    "#### Načítame dátovú sadu demografického vývoja do pandas dataframe so správnym kódovaním a zobrazíme prvých 10 záznamov"
   ]
  },
  {
   "cell_type": "code",
   "execution_count": 20,
   "id": "38e86dc4",
   "metadata": {},
   "outputs": [
    {
     "data": {
      "text/html": [
       "<div>\n",
       "<style scoped>\n",
       "    .dataframe tbody tr th:only-of-type {\n",
       "        vertical-align: middle;\n",
       "    }\n",
       "\n",
       "    .dataframe tbody tr th {\n",
       "        vertical-align: top;\n",
       "    }\n",
       "\n",
       "    .dataframe thead th {\n",
       "        text-align: right;\n",
       "    }\n",
       "</style>\n",
       "<table border=\"1\" class=\"dataframe\">\n",
       "  <thead>\n",
       "    <tr style=\"text-align: right;\">\n",
       "      <th></th>\n",
       "      <th>idhod</th>\n",
       "      <th>hodnota</th>\n",
       "      <th>stapro_kod</th>\n",
       "      <th>pohlavi_cis</th>\n",
       "      <th>pohlavi_kod</th>\n",
       "      <th>vek_cis</th>\n",
       "      <th>vek_kod</th>\n",
       "      <th>vuzemi_cis</th>\n",
       "      <th>vuzemi_kod</th>\n",
       "      <th>casref_do</th>\n",
       "      <th>pohlavi_txt</th>\n",
       "      <th>vek_txt</th>\n",
       "      <th>vuzemi_txt</th>\n",
       "    </tr>\n",
       "  </thead>\n",
       "  <tbody>\n",
       "    <tr>\n",
       "      <th>0</th>\n",
       "      <td>738925968</td>\n",
       "      <td>55776</td>\n",
       "      <td>2406</td>\n",
       "      <td>102.0</td>\n",
       "      <td>1.0</td>\n",
       "      <td>NaN</td>\n",
       "      <td>NaN</td>\n",
       "      <td>101</td>\n",
       "      <td>40665</td>\n",
       "      <td>2014-12-31</td>\n",
       "      <td>muž</td>\n",
       "      <td>NaN</td>\n",
       "      <td>Jihlava</td>\n",
       "    </tr>\n",
       "    <tr>\n",
       "      <th>1</th>\n",
       "      <td>738935261</td>\n",
       "      <td>649245</td>\n",
       "      <td>2406</td>\n",
       "      <td>102.0</td>\n",
       "      <td>1.0</td>\n",
       "      <td>NaN</td>\n",
       "      <td>NaN</td>\n",
       "      <td>100</td>\n",
       "      <td>3026</td>\n",
       "      <td>2014-12-31</td>\n",
       "      <td>muž</td>\n",
       "      <td>NaN</td>\n",
       "      <td>Středočeský kraj</td>\n",
       "    </tr>\n",
       "    <tr>\n",
       "      <th>2</th>\n",
       "      <td>738947654</td>\n",
       "      <td>79102</td>\n",
       "      <td>2406</td>\n",
       "      <td>102.0</td>\n",
       "      <td>1.0</td>\n",
       "      <td>NaN</td>\n",
       "      <td>NaN</td>\n",
       "      <td>101</td>\n",
       "      <td>40185</td>\n",
       "      <td>2014-12-31</td>\n",
       "      <td>muž</td>\n",
       "      <td>NaN</td>\n",
       "      <td>Kladno</td>\n",
       "    </tr>\n",
       "    <tr>\n",
       "      <th>3</th>\n",
       "      <td>738960094</td>\n",
       "      <td>31506</td>\n",
       "      <td>2406</td>\n",
       "      <td>102.0</td>\n",
       "      <td>1.0</td>\n",
       "      <td>NaN</td>\n",
       "      <td>NaN</td>\n",
       "      <td>101</td>\n",
       "      <td>40380</td>\n",
       "      <td>2014-12-31</td>\n",
       "      <td>muž</td>\n",
       "      <td>NaN</td>\n",
       "      <td>Plzeň-jih</td>\n",
       "    </tr>\n",
       "    <tr>\n",
       "      <th>4</th>\n",
       "      <td>738960494</td>\n",
       "      <td>42862</td>\n",
       "      <td>2406</td>\n",
       "      <td>102.0</td>\n",
       "      <td>1.0</td>\n",
       "      <td>NaN</td>\n",
       "      <td>NaN</td>\n",
       "      <td>101</td>\n",
       "      <td>40487</td>\n",
       "      <td>2014-12-31</td>\n",
       "      <td>muž</td>\n",
       "      <td>NaN</td>\n",
       "      <td>Louny</td>\n",
       "    </tr>\n",
       "    <tr>\n",
       "      <th>5</th>\n",
       "      <td>738960589</td>\n",
       "      <td>64075</td>\n",
       "      <td>2406</td>\n",
       "      <td>102.0</td>\n",
       "      <td>1.0</td>\n",
       "      <td>NaN</td>\n",
       "      <td>NaN</td>\n",
       "      <td>101</td>\n",
       "      <td>40509</td>\n",
       "      <td>2014-12-31</td>\n",
       "      <td>muž</td>\n",
       "      <td>NaN</td>\n",
       "      <td>Teplice</td>\n",
       "    </tr>\n",
       "    <tr>\n",
       "      <th>6</th>\n",
       "      <td>738970385</td>\n",
       "      <td>610376</td>\n",
       "      <td>2406</td>\n",
       "      <td>102.0</td>\n",
       "      <td>1.0</td>\n",
       "      <td>NaN</td>\n",
       "      <td>NaN</td>\n",
       "      <td>100</td>\n",
       "      <td>3018</td>\n",
       "      <td>2014-12-31</td>\n",
       "      <td>muž</td>\n",
       "      <td>NaN</td>\n",
       "      <td>Hlavní město Praha</td>\n",
       "    </tr>\n",
       "    <tr>\n",
       "      <th>7</th>\n",
       "      <td>738970826</td>\n",
       "      <td>286361</td>\n",
       "      <td>2406</td>\n",
       "      <td>102.0</td>\n",
       "      <td>1.0</td>\n",
       "      <td>NaN</td>\n",
       "      <td>NaN</td>\n",
       "      <td>100</td>\n",
       "      <td>3131</td>\n",
       "      <td>2014-12-31</td>\n",
       "      <td>muž</td>\n",
       "      <td>NaN</td>\n",
       "      <td>Zlínský kraj</td>\n",
       "    </tr>\n",
       "    <tr>\n",
       "      <th>8</th>\n",
       "      <td>738971828</td>\n",
       "      <td>23855</td>\n",
       "      <td>2406</td>\n",
       "      <td>102.0</td>\n",
       "      <td>1.0</td>\n",
       "      <td>NaN</td>\n",
       "      <td>NaN</td>\n",
       "      <td>101</td>\n",
       "      <td>40401</td>\n",
       "      <td>2014-12-31</td>\n",
       "      <td>muž</td>\n",
       "      <td>NaN</td>\n",
       "      <td>Rokycany</td>\n",
       "    </tr>\n",
       "    <tr>\n",
       "      <th>9</th>\n",
       "      <td>738948949</td>\n",
       "      <td>50682</td>\n",
       "      <td>2406</td>\n",
       "      <td>102.0</td>\n",
       "      <td>1.0</td>\n",
       "      <td>NaN</td>\n",
       "      <td>NaN</td>\n",
       "      <td>101</td>\n",
       "      <td>40525</td>\n",
       "      <td>2014-12-31</td>\n",
       "      <td>muž</td>\n",
       "      <td>NaN</td>\n",
       "      <td>Česká Lípa</td>\n",
       "    </tr>\n",
       "  </tbody>\n",
       "</table>\n",
       "</div>"
      ],
      "text/plain": [
       "       idhod  hodnota  stapro_kod  pohlavi_cis  pohlavi_kod  vek_cis  vek_kod  \\\n",
       "0  738925968    55776        2406        102.0          1.0      NaN      NaN   \n",
       "1  738935261   649245        2406        102.0          1.0      NaN      NaN   \n",
       "2  738947654    79102        2406        102.0          1.0      NaN      NaN   \n",
       "3  738960094    31506        2406        102.0          1.0      NaN      NaN   \n",
       "4  738960494    42862        2406        102.0          1.0      NaN      NaN   \n",
       "5  738960589    64075        2406        102.0          1.0      NaN      NaN   \n",
       "6  738970385   610376        2406        102.0          1.0      NaN      NaN   \n",
       "7  738970826   286361        2406        102.0          1.0      NaN      NaN   \n",
       "8  738971828    23855        2406        102.0          1.0      NaN      NaN   \n",
       "9  738948949    50682        2406        102.0          1.0      NaN      NaN   \n",
       "\n",
       "   vuzemi_cis  vuzemi_kod   casref_do pohlavi_txt vek_txt          vuzemi_txt  \n",
       "0         101       40665  2014-12-31         muž     NaN             Jihlava  \n",
       "1         100        3026  2014-12-31         muž     NaN    Středočeský kraj  \n",
       "2         101       40185  2014-12-31         muž     NaN              Kladno  \n",
       "3         101       40380  2014-12-31         muž     NaN           Plzeň-jih  \n",
       "4         101       40487  2014-12-31         muž     NaN               Louny  \n",
       "5         101       40509  2014-12-31         muž     NaN             Teplice  \n",
       "6         100        3018  2014-12-31         muž     NaN  Hlavní město Praha  \n",
       "7         100        3131  2014-12-31         muž     NaN        Zlínský kraj  \n",
       "8         101       40401  2014-12-31         muž     NaN            Rokycany  \n",
       "9         101       40525  2014-12-31         muž     NaN          Česká Lípa  "
      ]
     },
     "execution_count": 20,
     "metadata": {},
     "output_type": "execute_result"
    }
   ],
   "source": [
    "df_demography = pd.read_csv('Dataset/130142-21data043021.csv', encoding='utf-8', delimiter=',', header=0)\n",
    "df_demography.head(10)"
   ]
  },
  {
   "cell_type": "code",
   "execution_count": 21,
   "id": "d50369af",
   "metadata": {},
   "outputs": [
    {
     "data": {
      "text/html": [
       "<div>\n",
       "<style scoped>\n",
       "    .dataframe tbody tr th:only-of-type {\n",
       "        vertical-align: middle;\n",
       "    }\n",
       "\n",
       "    .dataframe tbody tr th {\n",
       "        vertical-align: top;\n",
       "    }\n",
       "\n",
       "    .dataframe thead th {\n",
       "        text-align: right;\n",
       "    }\n",
       "</style>\n",
       "<table border=\"1\" class=\"dataframe\">\n",
       "  <thead>\n",
       "    <tr style=\"text-align: right;\">\n",
       "      <th></th>\n",
       "      <th>idhod</th>\n",
       "      <th>hodnota</th>\n",
       "      <th>stapro_kod</th>\n",
       "      <th>pohlavi_cis</th>\n",
       "      <th>pohlavi_kod</th>\n",
       "      <th>vek_cis</th>\n",
       "      <th>vek_kod</th>\n",
       "      <th>vuzemi_cis</th>\n",
       "      <th>vuzemi_kod</th>\n",
       "      <th>casref_do</th>\n",
       "      <th>pohlavi_txt</th>\n",
       "      <th>vek_txt</th>\n",
       "      <th>vuzemi_txt</th>\n",
       "    </tr>\n",
       "  </thead>\n",
       "  <tbody>\n",
       "    <tr>\n",
       "      <th>63053</th>\n",
       "      <td>879154323</td>\n",
       "      <td>3762</td>\n",
       "      <td>2406</td>\n",
       "      <td>102.0</td>\n",
       "      <td>1.0</td>\n",
       "      <td>7700.0</td>\n",
       "      <td>4.000006e+14</td>\n",
       "      <td>101</td>\n",
       "      <td>40843</td>\n",
       "      <td>2020-12-31</td>\n",
       "      <td>muž</td>\n",
       "      <td>0 až 5 (více nebo rovno 0 a méně než 5)</td>\n",
       "      <td>Vsetín</td>\n",
       "    </tr>\n",
       "    <tr>\n",
       "      <th>63054</th>\n",
       "      <td>879154324</td>\n",
       "      <td>5013</td>\n",
       "      <td>2406</td>\n",
       "      <td>102.0</td>\n",
       "      <td>1.0</td>\n",
       "      <td>7700.0</td>\n",
       "      <td>4.000006e+14</td>\n",
       "      <td>101</td>\n",
       "      <td>40851</td>\n",
       "      <td>2020-12-31</td>\n",
       "      <td>muž</td>\n",
       "      <td>0 až 5 (více nebo rovno 0 a méně než 5)</td>\n",
       "      <td>Zlín</td>\n",
       "    </tr>\n",
       "    <tr>\n",
       "      <th>63055</th>\n",
       "      <td>879154325</td>\n",
       "      <td>2176</td>\n",
       "      <td>2406</td>\n",
       "      <td>102.0</td>\n",
       "      <td>1.0</td>\n",
       "      <td>7700.0</td>\n",
       "      <td>4.000006e+14</td>\n",
       "      <td>101</td>\n",
       "      <td>40860</td>\n",
       "      <td>2020-12-31</td>\n",
       "      <td>muž</td>\n",
       "      <td>0 až 5 (více nebo rovno 0 a méně než 5)</td>\n",
       "      <td>Bruntál</td>\n",
       "    </tr>\n",
       "    <tr>\n",
       "      <th>63056</th>\n",
       "      <td>879154326</td>\n",
       "      <td>5716</td>\n",
       "      <td>2406</td>\n",
       "      <td>102.0</td>\n",
       "      <td>1.0</td>\n",
       "      <td>7700.0</td>\n",
       "      <td>4.000006e+14</td>\n",
       "      <td>101</td>\n",
       "      <td>40878</td>\n",
       "      <td>2020-12-31</td>\n",
       "      <td>muž</td>\n",
       "      <td>0 až 5 (více nebo rovno 0 a méně než 5)</td>\n",
       "      <td>Frýdek-Místek</td>\n",
       "    </tr>\n",
       "    <tr>\n",
       "      <th>63057</th>\n",
       "      <td>879154327</td>\n",
       "      <td>5902</td>\n",
       "      <td>2406</td>\n",
       "      <td>102.0</td>\n",
       "      <td>1.0</td>\n",
       "      <td>7700.0</td>\n",
       "      <td>4.000006e+14</td>\n",
       "      <td>101</td>\n",
       "      <td>40886</td>\n",
       "      <td>2020-12-31</td>\n",
       "      <td>muž</td>\n",
       "      <td>0 až 5 (více nebo rovno 0 a méně než 5)</td>\n",
       "      <td>Karviná</td>\n",
       "    </tr>\n",
       "    <tr>\n",
       "      <th>63058</th>\n",
       "      <td>879154328</td>\n",
       "      <td>4150</td>\n",
       "      <td>2406</td>\n",
       "      <td>102.0</td>\n",
       "      <td>1.0</td>\n",
       "      <td>7700.0</td>\n",
       "      <td>4.000006e+14</td>\n",
       "      <td>101</td>\n",
       "      <td>40894</td>\n",
       "      <td>2020-12-31</td>\n",
       "      <td>muž</td>\n",
       "      <td>0 až 5 (více nebo rovno 0 a méně než 5)</td>\n",
       "      <td>Nový Jičín</td>\n",
       "    </tr>\n",
       "    <tr>\n",
       "      <th>63059</th>\n",
       "      <td>879154329</td>\n",
       "      <td>4700</td>\n",
       "      <td>2406</td>\n",
       "      <td>102.0</td>\n",
       "      <td>1.0</td>\n",
       "      <td>7700.0</td>\n",
       "      <td>4.000006e+14</td>\n",
       "      <td>101</td>\n",
       "      <td>40908</td>\n",
       "      <td>2020-12-31</td>\n",
       "      <td>muž</td>\n",
       "      <td>0 až 5 (více nebo rovno 0 a méně než 5)</td>\n",
       "      <td>Opava</td>\n",
       "    </tr>\n",
       "    <tr>\n",
       "      <th>63060</th>\n",
       "      <td>879154330</td>\n",
       "      <td>8294</td>\n",
       "      <td>2406</td>\n",
       "      <td>102.0</td>\n",
       "      <td>1.0</td>\n",
       "      <td>7700.0</td>\n",
       "      <td>4.000006e+14</td>\n",
       "      <td>101</td>\n",
       "      <td>40916</td>\n",
       "      <td>2020-12-31</td>\n",
       "      <td>muž</td>\n",
       "      <td>0 až 5 (více nebo rovno 0 a méně než 5)</td>\n",
       "      <td>Ostrava-město</td>\n",
       "    </tr>\n",
       "    <tr>\n",
       "      <th>63061</th>\n",
       "      <td>879154282</td>\n",
       "      <td>2653</td>\n",
       "      <td>2406</td>\n",
       "      <td>102.0</td>\n",
       "      <td>1.0</td>\n",
       "      <td>7700.0</td>\n",
       "      <td>4.000006e+14</td>\n",
       "      <td>101</td>\n",
       "      <td>40436</td>\n",
       "      <td>2020-12-31</td>\n",
       "      <td>muž</td>\n",
       "      <td>0 až 5 (více nebo rovno 0 a méně než 5)</td>\n",
       "      <td>Karlovy Vary</td>\n",
       "    </tr>\n",
       "    <tr>\n",
       "      <th>63062</th>\n",
       "      <td>879154281</td>\n",
       "      <td>2164</td>\n",
       "      <td>2406</td>\n",
       "      <td>102.0</td>\n",
       "      <td>1.0</td>\n",
       "      <td>7700.0</td>\n",
       "      <td>4.000006e+14</td>\n",
       "      <td>101</td>\n",
       "      <td>40428</td>\n",
       "      <td>2020-12-31</td>\n",
       "      <td>muž</td>\n",
       "      <td>0 až 5 (více nebo rovno 0 a méně než 5)</td>\n",
       "      <td>Cheb</td>\n",
       "    </tr>\n",
       "  </tbody>\n",
       "</table>\n",
       "</div>"
      ],
      "text/plain": [
       "           idhod  hodnota  stapro_kod  pohlavi_cis  pohlavi_kod  vek_cis  \\\n",
       "63053  879154323     3762        2406        102.0          1.0   7700.0   \n",
       "63054  879154324     5013        2406        102.0          1.0   7700.0   \n",
       "63055  879154325     2176        2406        102.0          1.0   7700.0   \n",
       "63056  879154326     5716        2406        102.0          1.0   7700.0   \n",
       "63057  879154327     5902        2406        102.0          1.0   7700.0   \n",
       "63058  879154328     4150        2406        102.0          1.0   7700.0   \n",
       "63059  879154329     4700        2406        102.0          1.0   7700.0   \n",
       "63060  879154330     8294        2406        102.0          1.0   7700.0   \n",
       "63061  879154282     2653        2406        102.0          1.0   7700.0   \n",
       "63062  879154281     2164        2406        102.0          1.0   7700.0   \n",
       "\n",
       "            vek_kod  vuzemi_cis  vuzemi_kod   casref_do pohlavi_txt  \\\n",
       "63053  4.000006e+14         101       40843  2020-12-31         muž   \n",
       "63054  4.000006e+14         101       40851  2020-12-31         muž   \n",
       "63055  4.000006e+14         101       40860  2020-12-31         muž   \n",
       "63056  4.000006e+14         101       40878  2020-12-31         muž   \n",
       "63057  4.000006e+14         101       40886  2020-12-31         muž   \n",
       "63058  4.000006e+14         101       40894  2020-12-31         muž   \n",
       "63059  4.000006e+14         101       40908  2020-12-31         muž   \n",
       "63060  4.000006e+14         101       40916  2020-12-31         muž   \n",
       "63061  4.000006e+14         101       40436  2020-12-31         muž   \n",
       "63062  4.000006e+14         101       40428  2020-12-31         muž   \n",
       "\n",
       "                                       vek_txt     vuzemi_txt  \n",
       "63053  0 až 5 (více nebo rovno 0 a méně než 5)         Vsetín  \n",
       "63054  0 až 5 (více nebo rovno 0 a méně než 5)           Zlín  \n",
       "63055  0 až 5 (více nebo rovno 0 a méně než 5)        Bruntál  \n",
       "63056  0 až 5 (více nebo rovno 0 a méně než 5)  Frýdek-Místek  \n",
       "63057  0 až 5 (více nebo rovno 0 a méně než 5)        Karviná  \n",
       "63058  0 až 5 (více nebo rovno 0 a méně než 5)     Nový Jičín  \n",
       "63059  0 až 5 (více nebo rovno 0 a méně než 5)          Opava  \n",
       "63060  0 až 5 (více nebo rovno 0 a méně než 5)  Ostrava-město  \n",
       "63061  0 až 5 (více nebo rovno 0 a méně než 5)   Karlovy Vary  \n",
       "63062  0 až 5 (více nebo rovno 0 a méně než 5)           Cheb  "
      ]
     },
     "execution_count": 21,
     "metadata": {},
     "output_type": "execute_result"
    }
   ],
   "source": [
    "df_demography.tail(10)"
   ]
  },
  {
   "cell_type": "code",
   "execution_count": 22,
   "id": "5d2d1d48",
   "metadata": {},
   "outputs": [
    {
     "data": {
      "text/plain": [
       "0"
      ]
     },
     "execution_count": 22,
     "metadata": {},
     "output_type": "execute_result"
    }
   ],
   "source": [
    "df_demography.duplicated().sum()"
   ]
  },
  {
   "cell_type": "code",
   "execution_count": 23,
   "id": "36a35b58",
   "metadata": {},
   "outputs": [
    {
     "name": "stdout",
     "output_type": "stream",
     "text": [
      "Počet riadkov (dátová sada demografického vývoja): 63063\n"
     ]
    }
   ],
   "source": [
    "print(\"Počet riadkov (dátová sada demografického vývoja):\", len(df_demography.index))"
   ]
  },
  {
   "cell_type": "code",
   "execution_count": 24,
   "id": "3900b983",
   "metadata": {},
   "outputs": [
    {
     "data": {
      "text/plain": [
       "idhod            int64\n",
       "hodnota          int64\n",
       "stapro_kod       int64\n",
       "pohlavi_cis    float64\n",
       "pohlavi_kod    float64\n",
       "vek_cis        float64\n",
       "vek_kod        float64\n",
       "vuzemi_cis       int64\n",
       "vuzemi_kod       int64\n",
       "casref_do       object\n",
       "pohlavi_txt     object\n",
       "vek_txt         object\n",
       "vuzemi_txt      object\n",
       "dtype: object"
      ]
     },
     "execution_count": 24,
     "metadata": {},
     "output_type": "execute_result"
    }
   ],
   "source": [
    "df_demography.dtypes"
   ]
  },
  {
   "cell_type": "markdown",
   "id": "a894a19c",
   "metadata": {},
   "source": [
    "#### Zistíme počty nedefinovaných hodnôt v jednotlivých stĺpcoch"
   ]
  },
  {
   "cell_type": "code",
   "execution_count": 25,
   "id": "ca08e34a",
   "metadata": {},
   "outputs": [
    {
     "data": {
      "text/plain": [
       "idhod              0\n",
       "hodnota            0\n",
       "stapro_kod         0\n",
       "pohlavi_cis    21021\n",
       "pohlavi_kod    21021\n",
       "vek_cis         3003\n",
       "vek_kod         3003\n",
       "vuzemi_cis         0\n",
       "vuzemi_kod         0\n",
       "casref_do          0\n",
       "pohlavi_txt    21021\n",
       "vek_txt         3003\n",
       "vuzemi_txt         0\n",
       "dtype: int64"
      ]
     },
     "execution_count": 25,
     "metadata": {},
     "output_type": "execute_result"
    }
   ],
   "source": [
    "df_demography.isna().sum()"
   ]
  },
  {
   "cell_type": "markdown",
   "id": "6bdfda61",
   "metadata": {},
   "source": [
    "#### Preskúmame niektoré zaujímavé stĺpce dátovej sady ktoré budú potrebné pre riešenie zadania"
   ]
  },
  {
   "cell_type": "code",
   "execution_count": 26,
   "id": "eb4862bf",
   "metadata": {},
   "outputs": [
    {
     "data": {
      "text/plain": [
       "array([102.,  nan])"
      ]
     },
     "execution_count": 26,
     "metadata": {},
     "output_type": "execute_result"
    }
   ],
   "source": [
    "df_demography.pohlavi_cis.unique()"
   ]
  },
  {
   "cell_type": "code",
   "execution_count": 27,
   "id": "a2c0602c",
   "metadata": {},
   "outputs": [
    {
     "data": {
      "text/plain": [
       "array([ 1.,  2., nan])"
      ]
     },
     "execution_count": 27,
     "metadata": {},
     "output_type": "execute_result"
    }
   ],
   "source": [
    "df_demography.pohlavi_kod.unique()"
   ]
  },
  {
   "cell_type": "code",
   "execution_count": 28,
   "id": "cec9554d",
   "metadata": {},
   "outputs": [
    {
     "data": {
      "text/plain": [
       "array([  nan, 7700.])"
      ]
     },
     "execution_count": 28,
     "metadata": {},
     "output_type": "execute_result"
    }
   ],
   "source": [
    "df_demography.vek_cis.unique()"
   ]
  },
  {
   "cell_type": "code",
   "execution_count": 29,
   "id": "b25f1de8",
   "metadata": {},
   "outputs": [
    {
     "data": {
      "text/plain": [
       "array([          nan, 4.1002561e+14, 4.1005561e+14, 4.1001561e+14,\n",
       "       4.1003561e+14, 4.1005061e+14, 4.1003061e+14, 4.1004061e+14,\n",
       "       4.1006061e+14, 4.1002061e+14, 4.1004561e+14, 4.1007561e+14,\n",
       "       4.1006561e+14, 4.1001061e+14, 4.1009061e+14, 4.0000561e+14,\n",
       "       4.1008561e+14, 4.1009580e+14, 4.1007061e+14, 4.1008061e+14,\n",
       "       4.0000060e+14])"
      ]
     },
     "execution_count": 29,
     "metadata": {},
     "output_type": "execute_result"
    }
   ],
   "source": [
    "df_demography.vek_kod.unique()"
   ]
  },
  {
   "cell_type": "code",
   "execution_count": 30,
   "id": "8af24883",
   "metadata": {},
   "outputs": [
    {
     "data": {
      "text/plain": [
       "array([nan, '25 až 30 (více nebo rovno 25 a méně než 30)',\n",
       "       '55 až 60 (více nebo rovno 55 a méně než 60)',\n",
       "       '15 až 20 (více nebo rovno 15 a méně než 20)',\n",
       "       '35 až 40 (více nebo rovno 35 a méně než 40)',\n",
       "       '50 až 55 (více nebo rovno 50 a méně než 55)',\n",
       "       '30 až 35 (více nebo rovno 30 a méně než 35)',\n",
       "       '40 až 45 (více nebo rovno 40 a méně než 45)',\n",
       "       '60 až 65 (více nebo rovno 60 a méně než 65)',\n",
       "       '20 až 25 (více nebo rovno 20 a méně než 25)',\n",
       "       '45 až 50 (více nebo rovno 45 a méně než 50)',\n",
       "       '75 až 80 (více nebo rovno 75 a méně než 80)',\n",
       "       '65 až 70 (více nebo rovno 65 a méně než 70)',\n",
       "       '10 až 15 (více nebo rovno 10 a méně než 15)',\n",
       "       '90 až 95 (více nebo rovno 90 a méně než 95)',\n",
       "       '5 až 10 (více nebo rovno 5 a méně než 10)',\n",
       "       '85 až 90 (více nebo rovno 85 a méně než 90)',\n",
       "       'Od 95 (více nebo rovno 95)',\n",
       "       '70 až 75 (více nebo rovno 70 a méně než 75)',\n",
       "       '80 až 85 (více nebo rovno 80 a méně než 85)',\n",
       "       '0 až 5 (více nebo rovno 0 a méně než 5)'], dtype=object)"
      ]
     },
     "execution_count": 30,
     "metadata": {},
     "output_type": "execute_result"
    }
   ],
   "source": [
    "df_demography.vek_txt.unique()"
   ]
  },
  {
   "cell_type": "markdown",
   "id": "0e6dff8a",
   "metadata": {},
   "source": [
    "## Identifikovanie stĺpcov, na základe ktorých je možné dátové sady prepojiť\n",
    "\n",
    "Je zrejmé, že dátové sady bude možné prepájať iba pomocou geografickej informácie, a to buď pomocou kódu kraja, či okresu, alebo prostredníctvom textových názvov okresov a krajov"
   ]
  },
  {
   "cell_type": "code",
   "execution_count": 31,
   "id": "8493fe4f",
   "metadata": {},
   "outputs": [
    {
     "data": {
      "text/plain": [
       "14"
      ]
     },
     "execution_count": 31,
     "metadata": {},
     "output_type": "execute_result"
    }
   ],
   "source": [
    "len(df_facilities.KrajKod.unique())"
   ]
  },
  {
   "cell_type": "code",
   "execution_count": 32,
   "id": "df61192b",
   "metadata": {
    "scrolled": true
   },
   "outputs": [
    {
     "data": {
      "text/plain": [
       "78"
      ]
     },
     "execution_count": 32,
     "metadata": {},
     "output_type": "execute_result"
    }
   ],
   "source": [
    "len(df_facilities.OkresKod.unique())"
   ]
  },
  {
   "cell_type": "code",
   "execution_count": 33,
   "id": "83116d70",
   "metadata": {},
   "outputs": [
    {
     "data": {
      "text/plain": [
       "91"
      ]
     },
     "execution_count": 33,
     "metadata": {},
     "output_type": "execute_result"
    }
   ],
   "source": [
    "len(df_demography.vuzemi_kod.unique())"
   ]
  },
  {
   "cell_type": "code",
   "execution_count": 34,
   "id": "377bd06e",
   "metadata": {},
   "outputs": [
    {
     "data": {
      "text/plain": [
       "array(['CZ071', 'CZ080', 'CZ042', 'CZ041', 'CZ020', 'CZ052', 'CZ010',\n",
       "       'CZ064', 'CZ051', 'CZ032', 'CZ072', 'CZ053', 'CZ031', 'CZ063'],\n",
       "      dtype=object)"
      ]
     },
     "execution_count": 34,
     "metadata": {},
     "output_type": "execute_result"
    }
   ],
   "source": [
    "df_facilities.KrajKod.unique()"
   ]
  },
  {
   "cell_type": "code",
   "execution_count": 35,
   "id": "6f8c0336",
   "metadata": {},
   "outputs": [
    {
     "data": {
      "text/plain": [
       "array(['CZ0712', 'CZ0714', 'CZ0715', 'CZ0804', 'CZ0802', 'CZ0425',\n",
       "       'CZ0421', 'CZ0424', 'CZ0412', 'CZ0202', 'CZ0525', 'CZ0209',\n",
       "       'CZ0100', 'CZ0805', 'CZ0642', 'CZ0643', 'CZ0647', 'CZ0522',\n",
       "       'CZ0801', 'CZ0513', 'CZ020A', 'CZ0806', 'CZ0323', 'CZ0722',\n",
       "       'CZ0533', 'CZ0316', 'CZ0204', 'CZ0208', 'CZ0532', 'CZ0724',\n",
       "       'CZ0203', 'CZ0311', 'CZ0635', 'CZ0632', 'CZ020C', 'CZ0631',\n",
       "       'CZ0314', 'CZ0633', 'CZ0534', 'CZ0326', 'CZ0711', 'CZ0426',\n",
       "       'CZ0524', 'CZ0523', 'CZ0713', 'CZ020B', 'CZ0423', 'CZ0325',\n",
       "       'CZ0427', 'CZ0521', 'CZ0205', 'CZ0511', 'CZ0634', 'CZ0411',\n",
       "       'CZ0644', 'CZ0313', 'CZ0803', 'CZ0322', 'CZ0315', 'CZ0723',\n",
       "       'CZ0206', 'CZ0422', 'CZ0327', 'CZ0312', 'CZ0317', 'CZ0413',\n",
       "       'CZ0514', 'CZ0324', 'CZ0645', 'CZ0721', 'CZ0646', 'CZ0201',\n",
       "       'CZ0207', 'CZ0531', 'CZ0512', 'CZ0641', 'CZ0321', nan],\n",
       "      dtype=object)"
      ]
     },
     "execution_count": 35,
     "metadata": {},
     "output_type": "execute_result"
    }
   ],
   "source": [
    "df_facilities.OkresKod.unique()"
   ]
  },
  {
   "cell_type": "code",
   "execution_count": 36,
   "id": "29349f49",
   "metadata": {},
   "outputs": [
    {
     "data": {
      "text/plain": [
       "array([40665,  3026, 40185, 40380, 40487, 40509,  3018,  3131, 40401,\n",
       "       40525, 40223, 40461, 40274, 40576, 40452, 40894, 40878, 40258,\n",
       "       40495, 40541, 40801, 40363, 40606,  3123, 40835, 40215, 40843,\n",
       "       40819, 40908, 40614, 40720, 40771,  3093, 40789, 40827, 40428,\n",
       "       40533, 40860, 40851, 40568, 40657, 40711, 40703, 40177, 40398,\n",
       "       40436, 40517, 40207,  3051, 40231, 40371, 40673, 40649, 40304,\n",
       "       40193, 40690,  3077,  3085, 40754, 40584, 40762, 40321, 40916,\n",
       "       40169, 40339, 40282,  3140, 40240, 40631, 40886, 40410, 40681,\n",
       "       40479, 40746, 40592,    19,  3107, 40738, 40291,  3069,  3115,\n",
       "       40444, 40266, 40797, 40550, 40312, 40347,  3034,  3042, 40355,\n",
       "       40622], dtype=int64)"
      ]
     },
     "execution_count": 36,
     "metadata": {},
     "output_type": "execute_result"
    }
   ],
   "source": [
    "df_demography.vuzemi_kod.unique()"
   ]
  },
  {
   "cell_type": "markdown",
   "id": "2f4a2196",
   "metadata": {},
   "source": [
    "Kódy pre kraje a okresy sa v dátových sadách nezhodujú. Overíme teda textové názvy."
   ]
  },
  {
   "cell_type": "code",
   "execution_count": 37,
   "id": "21ca1d18",
   "metadata": {
    "scrolled": true
   },
   "outputs": [
    {
     "data": {
      "text/plain": [
       "78"
      ]
     },
     "execution_count": 37,
     "metadata": {},
     "output_type": "execute_result"
    }
   ],
   "source": [
    "len(df_facilities.Okres.unique())"
   ]
  },
  {
   "cell_type": "code",
   "execution_count": 38,
   "id": "24508102",
   "metadata": {},
   "outputs": [
    {
     "data": {
      "text/plain": [
       "15"
      ]
     },
     "execution_count": 38,
     "metadata": {},
     "output_type": "execute_result"
    }
   ],
   "source": [
    "len(df_facilities.Kraj.unique())"
   ]
  },
  {
   "cell_type": "code",
   "execution_count": 39,
   "id": "d4a503d9",
   "metadata": {},
   "outputs": [
    {
     "data": {
      "text/plain": [
       "91"
      ]
     },
     "execution_count": 39,
     "metadata": {},
     "output_type": "execute_result"
    }
   ],
   "source": [
    "len(df_demography.vuzemi_txt.unique())"
   ]
  },
  {
   "cell_type": "code",
   "execution_count": 40,
   "id": "f954a554",
   "metadata": {},
   "outputs": [
    {
     "data": {
      "text/html": [
       "<div>\n",
       "<style scoped>\n",
       "    .dataframe tbody tr th:only-of-type {\n",
       "        vertical-align: middle;\n",
       "    }\n",
       "\n",
       "    .dataframe tbody tr th {\n",
       "        vertical-align: top;\n",
       "    }\n",
       "\n",
       "    .dataframe thead th {\n",
       "        text-align: right;\n",
       "    }\n",
       "</style>\n",
       "<table border=\"1\" class=\"dataframe\">\n",
       "  <thead>\n",
       "    <tr style=\"text-align: right;\">\n",
       "      <th></th>\n",
       "      <th>ZdravotnickeZarizeniId</th>\n",
       "      <th>PCZ</th>\n",
       "      <th>PCDP</th>\n",
       "      <th>NazevCely</th>\n",
       "      <th>ZdravotnickeZarizeniKod</th>\n",
       "      <th>DruhZarizeniKod</th>\n",
       "      <th>DruhZarizeni</th>\n",
       "      <th>DruhZarizeniSekundarni</th>\n",
       "      <th>Obec</th>\n",
       "      <th>Psc</th>\n",
       "      <th>...</th>\n",
       "      <th>PscSidlo</th>\n",
       "      <th>ObecSidlo</th>\n",
       "      <th>UliceSidlo</th>\n",
       "      <th>CisloDomovniOrientacniSidlo</th>\n",
       "      <th>OborPece</th>\n",
       "      <th>FormaPece</th>\n",
       "      <th>DruhPece</th>\n",
       "      <th>OdbornyZastupce</th>\n",
       "      <th>GPS</th>\n",
       "      <th>LastModified</th>\n",
       "    </tr>\n",
       "  </thead>\n",
       "  <tbody>\n",
       "    <tr>\n",
       "      <th>48059</th>\n",
       "      <td>40447</td>\n",
       "      <td>0</td>\n",
       "      <td>0</td>\n",
       "      <td>MUDr. Ivana Veselková</td>\n",
       "      <td>63109298000000</td>\n",
       "      <td>321</td>\n",
       "      <td>Sam.ord.prakt.lékaře pro děti a dorost</td>\n",
       "      <td>NaN</td>\n",
       "      <td>Praha</td>\n",
       "      <td>12800.0</td>\n",
       "      <td>...</td>\n",
       "      <td>NaN</td>\n",
       "      <td>NaN</td>\n",
       "      <td>NaN</td>\n",
       "      <td>NaN</td>\n",
       "      <td>praktické lékařství pro děti a dorost</td>\n",
       "      <td>ambulantní péče</td>\n",
       "      <td>NaN</td>\n",
       "      <td>NaN</td>\n",
       "      <td>NaN</td>\n",
       "      <td>2021-10-01 23:02:32</td>\n",
       "    </tr>\n",
       "  </tbody>\n",
       "</table>\n",
       "<p>1 rows × 42 columns</p>\n",
       "</div>"
      ],
      "text/plain": [
       "       ZdravotnickeZarizeniId  PCZ  PCDP              NazevCely  \\\n",
       "48059                   40447    0     0  MUDr. Ivana Veselková   \n",
       "\n",
       "       ZdravotnickeZarizeniKod  DruhZarizeniKod  \\\n",
       "48059           63109298000000              321   \n",
       "\n",
       "                                 DruhZarizeni DruhZarizeniSekundarni   Obec  \\\n",
       "48059  Sam.ord.prakt.lékaře pro děti a dorost                    NaN  Praha   \n",
       "\n",
       "           Psc  ... PscSidlo ObecSidlo UliceSidlo CisloDomovniOrientacniSidlo  \\\n",
       "48059  12800.0  ...      NaN       NaN        NaN                         NaN   \n",
       "\n",
       "                                    OborPece        FormaPece DruhPece  \\\n",
       "48059  praktické lékařství pro děti a dorost  ambulantní péče      NaN   \n",
       "\n",
       "      OdbornyZastupce  GPS         LastModified  \n",
       "48059             NaN  NaN  2021-10-01 23:02:32  \n",
       "\n",
       "[1 rows x 42 columns]"
      ]
     },
     "execution_count": 40,
     "metadata": {},
     "output_type": "execute_result"
    }
   ],
   "source": [
    "df_facilities[df_facilities.Okres.isna()]  "
   ]
  },
  {
   "cell_type": "code",
   "execution_count": 41,
   "id": "b89ca407",
   "metadata": {},
   "outputs": [
    {
     "data": {
      "text/plain": [
       "array(['Olomouc', 'Přerov', 'Šumperk', 'Nový Jičín', 'Frýdek-Místek',\n",
       "       'Most', 'Děčín', 'Louny', 'Karlovy Vary', 'Beroun', 'Trutnov',\n",
       "       'Praha-východ', 'Hlavní město Praha', 'Opava', 'Brno-město',\n",
       "       'Brno-venkov', 'Znojmo', 'Jičín', 'Bruntál', 'Liberec',\n",
       "       'Praha-západ', 'Ostrava-město', 'Plzeň-město', 'Uherské Hradiště',\n",
       "       'Svitavy', 'Strakonice', 'Kolín', 'Nymburk', 'Pardubice', 'Zlín',\n",
       "       'Kladno', 'České Budějovice', 'Žďár nad Sázavou', 'Jihlava',\n",
       "       'Rakovník', 'Havlíčkův Brod', 'Písek', 'Pelhřimov',\n",
       "       'Ústí nad Orlicí', 'Rokycany', 'Jeseník', 'Teplice',\n",
       "       'Rychnov nad Kněžnou', 'Náchod', 'Prostějov', 'Příbram',\n",
       "       'Litoměřice', 'Plzeň-sever', 'Ústí nad Labem', 'Hradec Králové',\n",
       "       'Kutná Hora', 'Česká Lípa', 'Třebíč', 'Cheb', 'Břeclav',\n",
       "       'Jindřichův Hradec', 'Karviná', 'Klatovy', 'Prachatice', 'Vsetín',\n",
       "       'Mělník', 'Chomutov', 'Tachov', 'Český Krumlov', 'Tábor',\n",
       "       'Sokolov', 'Semily', 'Plzeň-jih', 'Hodonín', 'Kroměříž', 'Vyškov',\n",
       "       'Benešov', 'Mladá Boleslav', 'Chrudim', 'Jablonec nad Nisou',\n",
       "       'Blansko', 'Domažlice', nan], dtype=object)"
      ]
     },
     "execution_count": 41,
     "metadata": {},
     "output_type": "execute_result"
    }
   ],
   "source": [
    "df_facilities.Okres.unique()"
   ]
  },
  {
   "cell_type": "code",
   "execution_count": 42,
   "id": "f8debb8a",
   "metadata": {},
   "outputs": [
    {
     "data": {
      "text/plain": [
       "array(['Olomoucký kraj', 'Moravskoslezský kraj', 'Ústecký kraj',\n",
       "       'Karlovarský kraj', 'Středočeský kraj', 'Královéhradecký kraj',\n",
       "       'Hlavní město Praha', 'Jihomoravský kraj', 'Liberecký kraj',\n",
       "       'Plzeňský kraj', 'Zlínský kraj', 'Pardubický kraj',\n",
       "       'Jihočeský kraj', 'Kraj Vysočina', nan], dtype=object)"
      ]
     },
     "execution_count": 42,
     "metadata": {},
     "output_type": "execute_result"
    }
   ],
   "source": [
    "df_facilities.Kraj.unique()"
   ]
  },
  {
   "cell_type": "code",
   "execution_count": 43,
   "id": "fe0316a7",
   "metadata": {},
   "outputs": [
    {
     "data": {
      "text/plain": [
       "array(['Jihlava', 'Středočeský kraj', 'Kladno', 'Plzeň-jih', 'Louny',\n",
       "       'Teplice', 'Hlavní město Praha', 'Zlínský kraj', 'Rokycany',\n",
       "       'Česká Lípa', 'Mladá Boleslav', 'Chomutov', 'Rakovník', 'Jičín',\n",
       "       'Děčín', 'Nový Jičín', 'Frýdek-Místek', 'Praha-západ', 'Most',\n",
       "       'Liberec', 'Přerov', 'Klatovy', 'Trutnov', 'Olomoucký kraj',\n",
       "       'Uherské Hradiště', 'Mělník', 'Vsetín', 'Šumperk', 'Opava',\n",
       "       'Chrudim', 'Brno-venkov', 'Jeseník', 'Pardubický kraj', 'Olomouc',\n",
       "       'Kroměříž', 'Cheb', 'Jablonec nad Nisou', 'Bruntál', 'Zlín',\n",
       "       'Hradec Králové', 'Havlíčkův Brod', 'Brno-město', 'Blansko',\n",
       "       'Beroun', 'Plzeň-sever', 'Karlovy Vary', 'Ústí nad Labem',\n",
       "       'Kutná Hora', 'Karlovarský kraj', 'Nymburk', 'Plzeň-město',\n",
       "       'Pelhřimov', 'Ústí nad Orlicí', 'Jindřichův Hradec', 'Kolín',\n",
       "       'Žďár nad Sázavou', 'Liberecký kraj', 'Královéhradecký kraj',\n",
       "       'Vyškov', 'Náchod', 'Znojmo', 'Prachatice', 'Ostrava-město',\n",
       "       'Benešov', 'Strakonice', 'České Budějovice',\n",
       "       'Moravskoslezský kraj', 'Praha-východ', 'Svitavy', 'Karviná',\n",
       "       'Tachov', 'Třebíč', 'Litoměřice', 'Hodonín', 'Rychnov nad Kněžnou',\n",
       "       'Česká republika', 'Kraj Vysočina', 'Břeclav', 'Český Krumlov',\n",
       "       'Ústecký kraj', 'Jihomoravský kraj', 'Sokolov', 'Příbram',\n",
       "       'Prostějov', 'Semily', 'Písek', 'Tábor', 'Jihočeský kraj',\n",
       "       'Plzeňský kraj', 'Domažlice', 'Pardubice'], dtype=object)"
      ]
     },
     "execution_count": 43,
     "metadata": {},
     "output_type": "execute_result"
    }
   ],
   "source": [
    "df_demography.vuzemi_txt.unique()"
   ]
  },
  {
   "cell_type": "code",
   "execution_count": 44,
   "id": "c0f1cd56",
   "metadata": {},
   "outputs": [
    {
     "name": "stdout",
     "output_type": "stream",
     "text": [
      "Nezhodný región: nan\n"
     ]
    }
   ],
   "source": [
    "regions_df1 = df_facilities.Okres.unique().tolist()\n",
    "regions_df2 = df_demography.vuzemi_txt.unique().tolist()\n",
    "total = 0\n",
    "\n",
    "for i in range(len(regions_df1)):\n",
    "    if regions_df1[i] in regions_df2:\n",
    "        total += 1\n",
    "    else:\n",
    "        print(\"Nezhodný región:\", regions_df1[i])\n",
    "\n",
    "if total == len(regions_df1):\n",
    "    print(\"Názvy okresov sa zhodujú, je teda možné datasety spájať na základe názvu okresu\")"
   ]
  },
  {
   "cell_type": "markdown",
   "id": "73d29012",
   "metadata": {},
   "source": [
    "# 2. ODOVZDAVANIE"
   ]
  },
  {
   "cell_type": "markdown",
   "id": "f77af252",
   "metadata": {},
   "source": [
    "#### nastavenia velkosti grafov"
   ]
  },
  {
   "cell_type": "code",
   "execution_count": 45,
   "id": "08be517f",
   "metadata": {},
   "outputs": [],
   "source": [
    "plt.rcParams[\"figure.figsize\"] = (18, 10)\n",
    "plt.rcParams[\"xtick.labelsize\"] = 12"
   ]
  },
  {
   "cell_type": "markdown",
   "id": "0c2d4a6c",
   "metadata": {},
   "source": [
    "# ULOHA A1"
   ]
  },
  {
   "cell_type": "markdown",
   "id": "34ac446f",
   "metadata": {},
   "source": [
    "Vytvořte sloupcové grafy zobrazující počty poskytovatelů určitého oboru pro Brno a zbytek Jihomoravského kraje. Pro zobrazení libovolně vyberte 15 typů poskytovatelů."
   ]
  },
  {
   "cell_type": "code",
   "execution_count": 5,
   "id": "864126be",
   "metadata": {},
   "outputs": [
    {
     "name": "stdout",
     "output_type": "stream",
     "text": [
      "                        DruhPoskytovatele  counts\n",
      "0                Centrum duševního zdraví       2\n",
      "1                      Fakultní nemocnice       9\n",
      "2                               Nemocnice       8\n",
      "3           Ostatní zdravotnická zařízení       1\n",
      "4                   Psychiatrická léčebna      10\n",
      "5   Samost. ordinace všeob. prakt. lékaře       5\n",
      "6     Samostatná ordinace PL - gynekologa       1\n",
      "7  Samostatná ordinace lékaře specialisty      98\n",
      "8     Sdružené ambulantní zařízení - malé       2\n"
     ]
    }
   ],
   "source": [
    "df_jihomoravske = df_facilities.loc[df_facilities['Kraj'] == 'Jihomoravský kraj']\n",
    "df_psychiatrie = df_jihomoravske.loc[df_jihomoravske['OborPece'] == 'psychiatrie']\n",
    "df_grouped = df_psychiatrie.groupby(['DruhPoskytovatele']).size().reset_index(name='counts')\n",
    "print(df_grouped)"
   ]
  },
  {
   "cell_type": "code",
   "execution_count": 47,
   "id": "ba923be9",
   "metadata": {},
   "outputs": [
    {
     "data": {
      "text/plain": [
       "[]"
      ]
     },
     "execution_count": 47,
     "metadata": {},
     "output_type": "execute_result"
    },
    {
     "data": {
      "image/png": "[encoded data removed]",
      "text/plain": [
       "<Figure size 1296x720 with 1 Axes>"
      ]
     },
     "metadata": {
      "needs_background": "light"
     },
     "output_type": "display_data"
    }
   ],
   "source": [
    "sns.barplot(x='DruhPoskytovatele', y='counts', data = df_grouped)\n",
    "plt.xticks(rotation=15)\n",
    "plt.plot()"
   ]
  },
  {
   "cell_type": "markdown",
   "id": "55cd4f0d",
   "metadata": {},
   "source": [
    "# ULOHA  A2"
   ]
  },
  {
   "cell_type": "markdown",
   "id": "f9554b80",
   "metadata": {},
   "source": [
    "Vytvořte čárový (spojnicový) graf zobrazující historii počtu poskytovatelů v 5 zvolených oborech. Vyberte obory, u kterých lze očekávat výraznější změny v počtu poskytovatelů (např. dentální hygienistka). Nemusíte zobrazovat data pro každý měsíc, stačí čtvrtletní hodnoty"
   ]
  },
  {
   "cell_type": "code",
   "execution_count": 48,
   "id": "75f0daac",
   "metadata": {},
   "outputs": [],
   "source": [
    "df_jan = pd.read_csv('Dataset/export-sluzby-2021-01.csv', encoding='cp1250', delimiter=';', header=0)\n",
    "df_apr = pd.read_csv('Dataset/export-sluzby-2021-04.csv', encoding='cp1250', delimiter=';', header=0)\n",
    "df_jul = pd.read_csv('Dataset/export-sluzby-2021-07.csv', encoding='cp1250', delimiter=';', header=0)\n",
    "df_oct = pd.read_csv('Dataset/export-sluzby-2021-10.csv', encoding='cp1250', delimiter=';', header=0)\n",
    "\n",
    "df_jan['EXPORT_MONTH'] = 1\n",
    "df_apr['EXPORT_MONTH'] = 4\n",
    "df_jul['EXPORT_MONTH'] = 7\n",
    "df_oct['EXPORT_MONTH'] = 10\n",
    "\n",
    "df_merged = pd.concat([df_jan,df_apr,df_jul,df_oct])\n",
    "#print(len(df_merged.index))\n",
    "#print(len(df_jan.index))"
   ]
  },
  {
   "cell_type": "code",
   "execution_count": 49,
   "id": "ae73c85f",
   "metadata": {},
   "outputs": [],
   "source": [
    "most_frequent = df_oct['OborPece'].value_counts()[:5].index.tolist()\n",
    "#most_frequent.append('Dentální hygienistka')\n",
    "#print(most_frequent)"
   ]
  },
  {
   "cell_type": "code",
   "execution_count": 50,
   "id": "77c507a5",
   "metadata": {},
   "outputs": [],
   "source": [
    "df_merged = df_merged.loc[df_merged['OborPece'].isin(most_frequent)]\n",
    "df_grouped = df_merged.groupby(['EXPORT_MONTH','OborPece']).size().reset_index(name='counts')\n",
    "#print(df_grouped)"
   ]
  },
  {
   "cell_type": "code",
   "execution_count": 51,
   "id": "71b18ef7",
   "metadata": {},
   "outputs": [
    {
     "data": {
      "text/plain": [
       "<AxesSubplot:xlabel='EXPORT_MONTH', ylabel='counts'>"
      ]
     },
     "execution_count": 51,
     "metadata": {},
     "output_type": "execute_result"
    },
    {
     "data": {
      "image/png": "[encoded data removed]",
      "text/plain": [
       "<Figure size 1296x720 with 1 Axes>"
      ]
     },
     "metadata": {
      "needs_background": "light"
     },
     "output_type": "display_data"
    }
   ],
   "source": [
    "sns.lineplot(data=df_grouped, x='EXPORT_MONTH', y='counts', hue='OborPece')"
   ]
  },
  {
   "cell_type": "code",
   "execution_count": 52,
   "id": "5863a5f2",
   "metadata": {},
   "outputs": [],
   "source": [
    "### na spolocnom grafe nie je dobre vidno priebeh jednotlivych ciar, tu su vykreslene jednotlivo:"
   ]
  },
  {
   "cell_type": "code",
   "execution_count": 53,
   "id": "e0b49df1",
   "metadata": {},
   "outputs": [
    {
     "data": {
      "text/plain": [
       "<AxesSubplot:xlabel='EXPORT_MONTH', ylabel='counts'>"
      ]
     },
     "execution_count": 53,
     "metadata": {},
     "output_type": "execute_result"
    },
    {
     "data": {
      "image/png": "[encoded data removed]",
      "text/plain": [
       "<Figure size 1296x720 with 1 Axes>"
      ]
     },
     "metadata": {
      "needs_background": "light"
     },
     "output_type": "display_data"
    }
   ],
   "source": [
    "sns.lineplot(data=df_grouped.loc[df_grouped['OborPece'] == 'Fyzioterapeut'], x='EXPORT_MONTH', y='counts')"
   ]
  },
  {
   "cell_type": "code",
   "execution_count": 54,
   "id": "cd0d57cd",
   "metadata": {},
   "outputs": [
    {
     "data": {
      "text/plain": [
       "<AxesSubplot:xlabel='EXPORT_MONTH', ylabel='counts'>"
      ]
     },
     "execution_count": 54,
     "metadata": {},
     "output_type": "execute_result"
    },
    {
     "data": {
      "image/png": "[encoded data removed]",
      "text/plain": [
       "<Figure size 1296x720 with 1 Axes>"
      ]
     },
     "metadata": {
      "needs_background": "light"
     },
     "output_type": "display_data"
    }
   ],
   "source": [
    "sns.lineplot(data=df_grouped.loc[df_grouped['OborPece'] == 'zubní lékařství'], x='EXPORT_MONTH', y='counts')"
   ]
  },
  {
   "cell_type": "markdown",
   "id": "7fc29b8b",
   "metadata": {},
   "source": [
    "# ULOHA B1"
   ]
  },
  {
   "cell_type": "markdown",
   "id": "89e6e871",
   "metadata": {},
   "source": [
    "Sestavte žebříček krajů dle počtu obyvatel na jednoho praktického lékaře (obor všeobecné praktické lékařství), výsledky zobrazte graficky. Graf bude pro každý kraj zobrazovat počet praktických lékařů v kraji, celkový počet obyvatel a počet obyvatel na jednoho lékaře. Graf můžete zhotovit kombinací dvou grafů do jednoho (jeden sloupcový graf zobrazí první dvě hodnoty a druhý, čárový graf, hodnotu třetí). Pro přesnější výsledky použijte počet obyvatel kraje nad 20 let."
   ]
  },
  {
   "cell_type": "code",
   "execution_count": 7,
   "id": "90eacaf2",
   "metadata": {},
   "outputs": [],
   "source": [
    "df_fac = pd.read_csv('Dataset/export-sluzby-2021-01.csv', encoding='cp1250', delimiter=';', header=0)\n",
    "df_dem = pd.read_csv('Dataset/130142-21data043021.csv', encoding='utf-8', delimiter=',', header=0)"
   ]
  },
  {
   "cell_type": "code",
   "execution_count": 8,
   "id": "c6716e2e",
   "metadata": {},
   "outputs": [],
   "source": [
    "#upravenie prveho datasetu"
   ]
  },
  {
   "cell_type": "code",
   "execution_count": 9,
   "id": "b46dadb3",
   "metadata": {},
   "outputs": [],
   "source": [
    "#df_dem['vek_txt'].unique()\n",
    "invalid_values = ['0 až 5 (více nebo rovno 0 a méně než 5)',\n",
    "                  '5 až 10 (více nebo rovno 5 a méně než 10)',\n",
    "                 '10 až 15 (více nebo rovno 10 a méně než 15)',\n",
    "                 '15 až 20 (více nebo rovno 15 a méně než 20)']\n",
    "df_dem = df_dem.loc[~df_dem['vek_txt'].isin(invalid_values)]"
   ]
  },
  {
   "cell_type": "code",
   "execution_count": 10,
   "id": "7c25812e",
   "metadata": {},
   "outputs": [],
   "source": [
    "#df_dem.vuzemi_txt.unique()\n",
    "df_dem = df_dem.loc[df_dem['vuzemi_kod'] < 40000]\n",
    "#df_dem.vuzemi_txt.unique()\n",
    "df_dem = df_dem.loc[df_dem['vuzemi_kod'] > 20]\n",
    "#df_dem.vuzemi_txt.unique()"
   ]
  },
  {
   "cell_type": "code",
   "execution_count": 11,
   "id": "2f7af1f5",
   "metadata": {},
   "outputs": [],
   "source": [
    "#df_dem.count()\n",
    "df_dem = df_dem.loc[df_dem['casref_do'] == '2020-12-31']\n",
    "df_dem = df_dem.loc[df_dem['vek_txt'].isnull() & df_dem['pohlavi_txt'].isnull()]\n",
    "#df_dem.sample(14)"
   ]
  },
  {
   "cell_type": "code",
   "execution_count": 12,
   "id": "e5b996c9",
   "metadata": {},
   "outputs": [
    {
     "name": "stderr",
     "output_type": "stream",
     "text": [
      "C:\\Users\\uzivatel\\AppData\\Local\\Temp/ipykernel_8784/1075803310.py:1: FutureWarning: In a future version of pandas all arguments of DataFrame.drop except for the argument 'labels' will be keyword-only\n",
      "  df_people = df_dem.drop(df_dem.columns.difference(['vuzemi_txt','hodnota']),1)\n"
     ]
    }
   ],
   "source": [
    "df_people = df_dem.drop(df_dem.columns.difference(['vuzemi_txt','hodnota']),1)\n",
    "#df_people.value_counts()"
   ]
  },
  {
   "cell_type": "code",
   "execution_count": 13,
   "id": "b6a6306a",
   "metadata": {},
   "outputs": [],
   "source": [
    "# upravenie druheho datasetu\n",
    "df_fac = df_fac.loc[df_fac['OborPece'] == 'všeobecné praktické lékařství']\n",
    "df_fac = df_fac.groupby(['Kraj']).size().reset_index(name='counts')\n",
    "#print(df_fac)"
   ]
  },
  {
   "cell_type": "code",
   "execution_count": 14,
   "id": "e46993c3",
   "metadata": {},
   "outputs": [
    {
     "data": {
      "text/plain": [
       "Kraj               14\n",
       "doktori            14\n",
       "ludia              14\n",
       "vuzemi_txt         14\n",
       "ludi_na_doktora    14\n",
       "dtype: int64"
      ]
     },
     "execution_count": 14,
     "metadata": {},
     "output_type": "execute_result"
    }
   ],
   "source": [
    "#spojenie datasetov \n",
    "df_merged = df_fac.merge(df_people, left_on='Kraj', right_on='vuzemi_txt')\n",
    "df_merged =  df_merged.rename(columns={'counts': 'doktori', 'hodnota': 'ludia'})\n",
    "#df_merged.sample(14)\n",
    "df_merged['ludi_na_doktora'] = (df_merged['ludia'] / df_merged['doktori'])\n",
    "#df_merged.sample(14)\n",
    "df_merged.count()"
   ]
  },
  {
   "cell_type": "code",
   "execution_count": 63,
   "id": "9627ca03",
   "metadata": {},
   "outputs": [],
   "source": [
    "# vykreslenie grafov - jednotlivo "
   ]
  },
  {
   "cell_type": "code",
   "execution_count": 64,
   "id": "c4ef07a0",
   "metadata": {},
   "outputs": [
    {
     "data": {
      "text/plain": [
       "[]"
      ]
     },
     "execution_count": 64,
     "metadata": {},
     "output_type": "execute_result"
    },
    {
     "data": {
      "image/png": "[encoded data removed]",
      "text/plain": [
       "<Figure size 1296x720 with 1 Axes>"
      ]
     },
     "metadata": {
      "needs_background": "light"
     },
     "output_type": "display_data"
    }
   ],
   "source": [
    "plot1 = sns.barplot(x='Kraj', y='ludia', data = df_merged)\n",
    "plt.xticks(rotation=15)\n",
    "plt.plot()"
   ]
  },
  {
   "cell_type": "code",
   "execution_count": 65,
   "id": "8cce7470",
   "metadata": {},
   "outputs": [
    {
     "data": {
      "text/plain": [
       "[]"
      ]
     },
     "execution_count": 65,
     "metadata": {},
     "output_type": "execute_result"
    },
    {
     "data": {
      "image/png": "[encoded data removed]",
      "text/plain": [
       "<Figure size 1296x720 with 1 Axes>"
      ]
     },
     "metadata": {
      "needs_background": "light"
     },
     "output_type": "display_data"
    }
   ],
   "source": [
    "plot2 = sns.barplot(x='Kraj', y='doktori', data = df_merged)\n",
    "plt.xticks(rotation=15)\n",
    "plt.plot()"
   ]
  },
  {
   "cell_type": "code",
   "execution_count": 66,
   "id": "5a1e9400",
   "metadata": {},
   "outputs": [
    {
     "data": {
      "text/plain": [
       "[]"
      ]
     },
     "execution_count": 66,
     "metadata": {},
     "output_type": "execute_result"
    },
    {
     "data": {
      "image/png": "[encoded data removed]",
      "text/plain": [
       "<Figure size 1296x720 with 1 Axes>"
      ]
     },
     "metadata": {
      "needs_background": "light"
     },
     "output_type": "display_data"
    }
   ],
   "source": [
    "plot3 = sns.lineplot(x='Kraj', y='ludi_na_doktora', data=df_merged)\n",
    "plt.xticks(rotation=15)\n",
    "plt.plot()"
   ]
  },
  {
   "cell_type": "code",
   "execution_count": 67,
   "id": "fd7af6ff",
   "metadata": {},
   "outputs": [
    {
     "data": {
      "text/plain": [
       "[]"
      ]
     },
     "execution_count": 67,
     "metadata": {},
     "output_type": "execute_result"
    },
    {
     "data": {
      "image/png": "[encoded data removed]",
      "text/plain": [
       "<Figure size 1296x720 with 3 Axes>"
      ]
     },
     "metadata": {
      "needs_background": "light"
     },
     "output_type": "display_data"
    }
   ],
   "source": [
    "#pokus o spolocny graf\n",
    "fig, axs = plt.subplots(ncols=3)\n",
    "sns.barplot(x='Kraj', y='ludia', data = df_merged,  ax=axs[0])\n",
    "sns.barplot(x='Kraj', y='doktori', data = df_merged,  ax=axs[1])\n",
    "sns.lineplot(x='Kraj', y='ludi_na_doktora', data=df_merged,  ax=axs[2])\n",
    "plt.plot()"
   ]
  },
  {
   "cell_type": "markdown",
   "id": "3f9d6d47",
   "metadata": {},
   "source": [
    "# ULOHA C1"
   ]
  },
  {
   "cell_type": "markdown",
   "id": "4b582d43",
   "metadata": {},
   "source": [
    "Připravte trénovací datovou sadu pro klasifikátor, který na základě počtu poskytovatelů vybraných zdravotních služeb a věkového složení obyvatel odhadne velikost města (jako kategorický atribut - malé/střední/velké podle počtu obyvatel).\n",
    "Uvažujte následující kategorie měst: malá - do 8 tis. obyvatel, střední 8 - 30 tis. obyvatel a velká nad 30 tis. obyvatel.\n",
    "Pro potřeby projektu vyberte libovolně 60 měst (20 z každé kategorie), pro která najdete potřebné hodnoty.\n",
    "Atributy: počty poskytovatelů pro následující obory péče: dentální hygienistka/dětské lékařství/fyzioterapeut/chirurgie/kardiologie/Optometrista/ortopedie a traumatologie pohybového ústrojí/praktické lékařství pro děti a dorost/všeobecné praktické lékařství/zubní lékařství, procento obyvatel ve věkových skupinách 0-14 let a 15-64 roků.\n"
   ]
  },
  {
   "cell_type": "code",
   "execution_count": 68,
   "id": "77f6016c",
   "metadata": {},
   "outputs": [],
   "source": [
    "df_fac = pd.read_csv('Dataset/export-sluzby-2021-01.csv', encoding='cp1250', delimiter=';', header=0)\n",
    "df_dem = pd.read_csv('Dataset/130142-21data043021.csv', encoding='utf-8', delimiter=',', header=0)"
   ]
  },
  {
   "cell_type": "code",
   "execution_count": 69,
   "id": "187c77ac",
   "metadata": {},
   "outputs": [],
   "source": [
    "df_dem['vek_txt'] = df_dem['vek_txt'].replace({'0 až 5 (více nebo rovno 0 a méně než 5)':'0-14',\n",
    "                                           '5 až 10 (více nebo rovno 5 a méně než 10)'  :'0-14',\n",
    "                                           '10 až 15 (více nebo rovno 10 a méně než 15)':'0-14',\n",
    "                                           '15 až 20 (více nebo rovno 15 a méně než 20)':'15-64',\n",
    "                                           '20 až 25 (více nebo rovno 20 a méně než 25)':'15-64',\n",
    "                                           '25 až 30 (více nebo rovno 25 a méně než 30)':'15-64',\n",
    "                                           '30 až 35 (více nebo rovno 30 a méně než 35)':'15-64',\n",
    "                                           '35 až 40 (více nebo rovno 35 a méně než 40)':'15-64',\n",
    "                                           '40 až 45 (více nebo rovno 40 a méně než 45)':'15-64',\n",
    "                                           '45 až 50 (více nebo rovno 45 a méně než 50)':'15-64',\n",
    "                                           '50 až 55 (více nebo rovno 50 a méně než 55)':'15-64',\n",
    "                                           '55 až 60 (více nebo rovno 55 a méně než 60)':'15-64',\n",
    "                                           '60 až 65 (více nebo rovno 60 a méně než 65)':'15-64'})\n",
    "\n",
    "valid_values = ['0-14','15-64']\n",
    "df_dem = df_dem.loc[df_dem['vek_txt'].isin(valid_values)]\n",
    "#df_dem['vek_txt'].count()"
   ]
  },
  {
   "cell_type": "code",
   "execution_count": 70,
   "id": "e1a30423",
   "metadata": {},
   "outputs": [],
   "source": [
    "df_dem = df_dem.loc[df_dem['pohlavi_txt'].isnull()]\n",
    "df_dem = df_dem.loc[df_dem['vuzemi_kod'] >= 40000]\n",
    "df_dem = df_dem.loc[df_dem['casref_do'] == '2020-12-31']\n",
    "#df_dem.count()"
   ]
  },
  {
   "cell_type": "markdown",
   "id": "17b860b4",
   "metadata": {},
   "source": [
    "df_grouped = df_dem.groupby(['vuzemi_txt','vek_txt']).sum()\n",
    "df_grouped = df_grouped.drop(df_grouped.columns.difference(['vuzemi_txt','vek_txt','hodnota']),1)\n",
    "#df_grouped.sample(30)"
   ]
  },
  {
   "cell_type": "code",
   "execution_count": 72,
   "id": "19d80ad0",
   "metadata": {},
   "outputs": [
    {
     "name": "stderr",
     "output_type": "stream",
     "text": [
      "C:\\Users\\Michal\\AppData\\Local\\Temp/ipykernel_10152/3119628027.py:5: FutureWarning: In a future version of pandas all arguments of DataFrame.drop except for the argument 'labels' will be keyword-only\n",
      "  df_region_size = df_region_size.drop(df_region_size.columns.difference(['vuzemi_txt','hodnota']),1)\n"
     ]
    },
    {
     "data": {
      "text/html": [
       "<div>\n",
       "<style scoped>\n",
       "    .dataframe tbody tr th:only-of-type {\n",
       "        vertical-align: middle;\n",
       "    }\n",
       "\n",
       "    .dataframe tbody tr th {\n",
       "        vertical-align: top;\n",
       "    }\n",
       "\n",
       "    .dataframe thead th {\n",
       "        text-align: right;\n",
       "    }\n",
       "</style>\n",
       "<table border=\"1\" class=\"dataframe\">\n",
       "  <thead>\n",
       "    <tr style=\"text-align: right;\">\n",
       "      <th></th>\n",
       "      <th>hodnota</th>\n",
       "      <th>vuzemi_txt</th>\n",
       "    </tr>\n",
       "  </thead>\n",
       "  <tbody>\n",
       "    <tr>\n",
       "      <th>2810</th>\n",
       "      <td>37709</td>\n",
       "      <td>Jeseník</td>\n",
       "    </tr>\n",
       "    <tr>\n",
       "      <th>2818</th>\n",
       "      <td>49489</td>\n",
       "      <td>Rokycany</td>\n",
       "    </tr>\n",
       "    <tr>\n",
       "      <th>2861</th>\n",
       "      <td>50779</td>\n",
       "      <td>Prachatice</td>\n",
       "    </tr>\n",
       "    <tr>\n",
       "      <th>2853</th>\n",
       "      <td>54389</td>\n",
       "      <td>Tachov</td>\n",
       "    </tr>\n",
       "    <tr>\n",
       "      <th>2812</th>\n",
       "      <td>55737</td>\n",
       "      <td>Rakovník</td>\n",
       "    </tr>\n",
       "    <tr>\n",
       "      <th>...</th>\n",
       "      <td>...</td>\n",
       "      <td>...</td>\n",
       "    </tr>\n",
       "    <tr>\n",
       "      <th>2831</th>\n",
       "      <td>226442</td>\n",
       "      <td>Brno-venkov</td>\n",
       "    </tr>\n",
       "    <tr>\n",
       "      <th>2847</th>\n",
       "      <td>235441</td>\n",
       "      <td>Olomouc</td>\n",
       "    </tr>\n",
       "    <tr>\n",
       "      <th>2863</th>\n",
       "      <td>242779</td>\n",
       "      <td>Karviná</td>\n",
       "    </tr>\n",
       "    <tr>\n",
       "      <th>2821</th>\n",
       "      <td>317322</td>\n",
       "      <td>Ostrava-město</td>\n",
       "    </tr>\n",
       "    <tr>\n",
       "      <th>2865</th>\n",
       "      <td>382405</td>\n",
       "      <td>Brno-město</td>\n",
       "    </tr>\n",
       "  </tbody>\n",
       "</table>\n",
       "<p>76 rows × 2 columns</p>\n",
       "</div>"
      ],
      "text/plain": [
       "      hodnota     vuzemi_txt\n",
       "2810    37709        Jeseník\n",
       "2818    49489       Rokycany\n",
       "2861    50779     Prachatice\n",
       "2853    54389         Tachov\n",
       "2812    55737       Rakovník\n",
       "...       ...            ...\n",
       "2831   226442    Brno-venkov\n",
       "2847   235441        Olomouc\n",
       "2863   242779        Karviná\n",
       "2821   317322  Ostrava-město\n",
       "2865   382405     Brno-město\n",
       "\n",
       "[76 rows x 2 columns]"
      ]
     },
     "execution_count": 72,
     "metadata": {},
     "output_type": "execute_result"
    }
   ],
   "source": [
    "df_region_size = pd.read_csv('Dataset/130142-21data043021.csv', encoding='utf-8', delimiter=',', header=0)\n",
    "df_region_size = df_region_size.loc[df_region_size['vuzemi_kod'] >= 40000]\n",
    "df_region_size = df_region_size.loc[df_region_size['casref_do'] == '2020-12-31']\n",
    "df_region_size = df_region_size.loc[df_region_size['vek_txt'].isnull() & df_region_size['pohlavi_txt'].isnull()]\n",
    "df_region_size = df_region_size.drop(df_region_size.columns.difference(['vuzemi_txt','hodnota']),1)\n",
    "df_region_size.sort_values(by='hodnota', ascending=True)"
   ]
  },
  {
   "cell_type": "code",
   "execution_count": 73,
   "id": "b998785f",
   "metadata": {},
   "outputs": [],
   "source": [
    "def velkost(row):\n",
    "    if row['hodnota'] > 120000:\n",
    "        val = \"velke\"\n",
    "    elif  row['hodnota'] < 95000:\n",
    "        val = \"male\"\n",
    "    else:\n",
    "        val = \"stredne\"\n",
    "    return val\n",
    "\n",
    "df_region_size['velkost'] = df_region_size.apply(velkost, axis=1)\n",
    "#df_region_size.sample(30)"
   ]
  },
  {
   "cell_type": "code",
   "execution_count": 74,
   "id": "c2c7084c",
   "metadata": {},
   "outputs": [
    {
     "ename": "KeyError",
     "evalue": "0",
     "output_type": "error",
     "traceback": [
      "\u001b[1;31m---------------------------------------------------------------------------\u001b[0m",
      "\u001b[1;31mKeyError\u001b[0m                                  Traceback (most recent call last)",
      "\u001b[1;32m~\\anaconda3\\envs\\UPA_Project\\lib\\site-packages\\pandas\\core\\indexes\\base.py\u001b[0m in \u001b[0;36mget_loc\u001b[1;34m(self, key, method, tolerance)\u001b[0m\n\u001b[0;32m   3360\u001b[0m             \u001b[1;32mtry\u001b[0m\u001b[1;33m:\u001b[0m\u001b[1;33m\u001b[0m\u001b[1;33m\u001b[0m\u001b[0m\n\u001b[1;32m-> 3361\u001b[1;33m                 \u001b[1;32mreturn\u001b[0m \u001b[0mself\u001b[0m\u001b[1;33m.\u001b[0m\u001b[0m_engine\u001b[0m\u001b[1;33m.\u001b[0m\u001b[0mget_loc\u001b[0m\u001b[1;33m(\u001b[0m\u001b[0mcasted_key\u001b[0m\u001b[1;33m)\u001b[0m\u001b[1;33m\u001b[0m\u001b[1;33m\u001b[0m\u001b[0m\n\u001b[0m\u001b[0;32m   3362\u001b[0m             \u001b[1;32mexcept\u001b[0m \u001b[0mKeyError\u001b[0m \u001b[1;32mas\u001b[0m \u001b[0merr\u001b[0m\u001b[1;33m:\u001b[0m\u001b[1;33m\u001b[0m\u001b[1;33m\u001b[0m\u001b[0m\n",
      "\u001b[1;32m~\\anaconda3\\envs\\UPA_Project\\lib\\site-packages\\pandas\\_libs\\index.pyx\u001b[0m in \u001b[0;36mpandas._libs.index.IndexEngine.get_loc\u001b[1;34m()\u001b[0m\n",
      "\u001b[1;32m~\\anaconda3\\envs\\UPA_Project\\lib\\site-packages\\pandas\\_libs\\index.pyx\u001b[0m in \u001b[0;36mpandas._libs.index.IndexEngine.get_loc\u001b[1;34m()\u001b[0m\n",
      "\u001b[1;32mpandas\\_libs\\hashtable_class_helper.pxi\u001b[0m in \u001b[0;36mpandas._libs.hashtable.PyObjectHashTable.get_item\u001b[1;34m()\u001b[0m\n",
      "\u001b[1;32mpandas\\_libs\\hashtable_class_helper.pxi\u001b[0m in \u001b[0;36mpandas._libs.hashtable.PyObjectHashTable.get_item\u001b[1;34m()\u001b[0m\n",
      "\u001b[1;31mKeyError\u001b[0m: 0",
      "\nThe above exception was the direct cause of the following exception:\n",
      "\u001b[1;31mKeyError\u001b[0m                                  Traceback (most recent call last)",
      "\u001b[1;32m~\\AppData\\Local\\Temp/ipykernel_10152/644024653.py\u001b[0m in \u001b[0;36m<module>\u001b[1;34m\u001b[0m\n\u001b[1;32m----> 1\u001b[1;33m \u001b[0mdf_region_size\u001b[0m\u001b[1;33m.\u001b[0m\u001b[0mloc\u001b[0m\u001b[1;33m[\u001b[0m\u001b[0mdf_region_size\u001b[0m\u001b[1;33m[\u001b[0m\u001b[1;34m'vuzemi_txt'\u001b[0m\u001b[1;33m]\u001b[0m \u001b[1;33m==\u001b[0m \u001b[1;34m'Jičín'\u001b[0m\u001b[1;33m]\u001b[0m\u001b[1;33m[\u001b[0m\u001b[1;36m0\u001b[0m\u001b[1;33m]\u001b[0m\u001b[1;33m\u001b[0m\u001b[1;33m\u001b[0m\u001b[0m\n\u001b[0m",
      "\u001b[1;32m~\\anaconda3\\envs\\UPA_Project\\lib\\site-packages\\pandas\\core\\frame.py\u001b[0m in \u001b[0;36m__getitem__\u001b[1;34m(self, key)\u001b[0m\n\u001b[0;32m   3456\u001b[0m             \u001b[1;32mif\u001b[0m \u001b[0mself\u001b[0m\u001b[1;33m.\u001b[0m\u001b[0mcolumns\u001b[0m\u001b[1;33m.\u001b[0m\u001b[0mnlevels\u001b[0m \u001b[1;33m>\u001b[0m \u001b[1;36m1\u001b[0m\u001b[1;33m:\u001b[0m\u001b[1;33m\u001b[0m\u001b[1;33m\u001b[0m\u001b[0m\n\u001b[0;32m   3457\u001b[0m                 \u001b[1;32mreturn\u001b[0m \u001b[0mself\u001b[0m\u001b[1;33m.\u001b[0m\u001b[0m_getitem_multilevel\u001b[0m\u001b[1;33m(\u001b[0m\u001b[0mkey\u001b[0m\u001b[1;33m)\u001b[0m\u001b[1;33m\u001b[0m\u001b[1;33m\u001b[0m\u001b[0m\n\u001b[1;32m-> 3458\u001b[1;33m             \u001b[0mindexer\u001b[0m \u001b[1;33m=\u001b[0m \u001b[0mself\u001b[0m\u001b[1;33m.\u001b[0m\u001b[0mcolumns\u001b[0m\u001b[1;33m.\u001b[0m\u001b[0mget_loc\u001b[0m\u001b[1;33m(\u001b[0m\u001b[0mkey\u001b[0m\u001b[1;33m)\u001b[0m\u001b[1;33m\u001b[0m\u001b[1;33m\u001b[0m\u001b[0m\n\u001b[0m\u001b[0;32m   3459\u001b[0m             \u001b[1;32mif\u001b[0m \u001b[0mis_integer\u001b[0m\u001b[1;33m(\u001b[0m\u001b[0mindexer\u001b[0m\u001b[1;33m)\u001b[0m\u001b[1;33m:\u001b[0m\u001b[1;33m\u001b[0m\u001b[1;33m\u001b[0m\u001b[0m\n\u001b[0;32m   3460\u001b[0m                 \u001b[0mindexer\u001b[0m \u001b[1;33m=\u001b[0m \u001b[1;33m[\u001b[0m\u001b[0mindexer\u001b[0m\u001b[1;33m]\u001b[0m\u001b[1;33m\u001b[0m\u001b[1;33m\u001b[0m\u001b[0m\n",
      "\u001b[1;32m~\\anaconda3\\envs\\UPA_Project\\lib\\site-packages\\pandas\\core\\indexes\\base.py\u001b[0m in \u001b[0;36mget_loc\u001b[1;34m(self, key, method, tolerance)\u001b[0m\n\u001b[0;32m   3361\u001b[0m                 \u001b[1;32mreturn\u001b[0m \u001b[0mself\u001b[0m\u001b[1;33m.\u001b[0m\u001b[0m_engine\u001b[0m\u001b[1;33m.\u001b[0m\u001b[0mget_loc\u001b[0m\u001b[1;33m(\u001b[0m\u001b[0mcasted_key\u001b[0m\u001b[1;33m)\u001b[0m\u001b[1;33m\u001b[0m\u001b[1;33m\u001b[0m\u001b[0m\n\u001b[0;32m   3362\u001b[0m             \u001b[1;32mexcept\u001b[0m \u001b[0mKeyError\u001b[0m \u001b[1;32mas\u001b[0m \u001b[0merr\u001b[0m\u001b[1;33m:\u001b[0m\u001b[1;33m\u001b[0m\u001b[1;33m\u001b[0m\u001b[0m\n\u001b[1;32m-> 3363\u001b[1;33m                 \u001b[1;32mraise\u001b[0m \u001b[0mKeyError\u001b[0m\u001b[1;33m(\u001b[0m\u001b[0mkey\u001b[0m\u001b[1;33m)\u001b[0m \u001b[1;32mfrom\u001b[0m \u001b[0merr\u001b[0m\u001b[1;33m\u001b[0m\u001b[1;33m\u001b[0m\u001b[0m\n\u001b[0m\u001b[0;32m   3364\u001b[0m \u001b[1;33m\u001b[0m\u001b[0m\n\u001b[0;32m   3365\u001b[0m         \u001b[1;32mif\u001b[0m \u001b[0mis_scalar\u001b[0m\u001b[1;33m(\u001b[0m\u001b[0mkey\u001b[0m\u001b[1;33m)\u001b[0m \u001b[1;32mand\u001b[0m \u001b[0misna\u001b[0m\u001b[1;33m(\u001b[0m\u001b[0mkey\u001b[0m\u001b[1;33m)\u001b[0m \u001b[1;32mand\u001b[0m \u001b[1;32mnot\u001b[0m \u001b[0mself\u001b[0m\u001b[1;33m.\u001b[0m\u001b[0mhasnans\u001b[0m\u001b[1;33m:\u001b[0m\u001b[1;33m\u001b[0m\u001b[1;33m\u001b[0m\u001b[0m\n",
      "\u001b[1;31mKeyError\u001b[0m: 0"
     ]
    }
   ],
   "source": [
    "df_region_size.loc[df_region_size['vuzemi_txt'] == 'Jičín'][0]"
   ]
  },
  {
   "cell_type": "code",
   "execution_count": null,
   "id": "c7576d9d",
   "metadata": {},
   "outputs": [],
   "source": [
    "data = []\n",
    "for value in df_dem['vuzemi_txt'].unique():\n",
    "    data.append([value, int(df_grouped.loc[value,'0-14'][0]),\n",
    "                 int(df_grouped.loc[value,'15-64'][0]), str(df_region_size.loc[df_region_size['vuzemi_txt'] == value]['velkost'])]) \n",
    "\n",
    "df_people = pd.DataFrame(data, columns=['mesta','deti','dospeli','velkost'])\n",
    "df_people.sample(10)"
   ]
  },
  {
   "cell_type": "code",
   "execution_count": null,
   "id": "1d5a15d6",
   "metadata": {},
   "outputs": [],
   "source": []
  }
 ],
 "metadata": {
  "kernelspec": {
   "display_name": "Python 3 (ipykernel)",
   "language": "python",
   "name": "python3"
  },
  "language_info": {
   "codemirror_mode": {
    "name": "ipython",
    "version": 3
   },
   "file_extension": ".py",
   "mimetype": "text/x-python",
   "name": "python",
   "nbconvert_exporter": "python",
   "pygments_lexer": "ipython3",
   "version": "3.10.0"
  }
 },
 "nbformat": 4,
 "nbformat_minor": 5
}
